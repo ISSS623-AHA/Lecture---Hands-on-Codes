{
  "cells": [
    {
      "cell_type": "code",
      "execution_count": 1,
      "metadata": {
        "colab": {
          "base_uri": "https://localhost:8080/"
        },
        "id": "FU4QPQPkjCQ_",
        "outputId": "8a2dfac5-e228-459d-e107-a139cbabc600"
      },
      "outputs": [],
      "source": [
        "import pandas as pd\n",
        "import numpy as np\n",
        "import statsmodels.formula.api as smf\n",
        "import os\n",
        "import seaborn as sns\n"
      ]
    },
    {
      "cell_type": "markdown",
      "metadata": {
        "id": "tRq8jAGwjCRC"
      },
      "source": [
        "## 1. Simple Problem with One Confounder (Smoker)"
      ]
    },
    {
      "cell_type": "code",
      "execution_count": 2,
      "metadata": {
        "colab": {
          "base_uri": "https://localhost:8080/",
          "height": 423
        },
        "id": "nAo4H-W1jCRD",
        "outputId": "5fdff8b1-465b-484a-e2f6-bb309ba6684f"
      },
      "outputs": [
        {
          "data": {
            "text/html": [
              "<div>\n",
              "<style scoped>\n",
              "    .dataframe tbody tr th:only-of-type {\n",
              "        vertical-align: middle;\n",
              "    }\n",
              "\n",
              "    .dataframe tbody tr th {\n",
              "        vertical-align: top;\n",
              "    }\n",
              "\n",
              "    .dataframe thead th {\n",
              "        text-align: right;\n",
              "    }\n",
              "</style>\n",
              "<table border=\"1\" class=\"dataframe\">\n",
              "  <thead>\n",
              "    <tr style=\"text-align: right;\">\n",
              "      <th></th>\n",
              "      <th>smoker</th>\n",
              "      <th>treatment</th>\n",
              "      <th>dead</th>\n",
              "    </tr>\n",
              "  </thead>\n",
              "  <tbody>\n",
              "    <tr>\n",
              "      <th>0</th>\n",
              "      <td>0</td>\n",
              "      <td>0</td>\n",
              "      <td>1</td>\n",
              "    </tr>\n",
              "    <tr>\n",
              "      <th>1</th>\n",
              "      <td>1</td>\n",
              "      <td>1</td>\n",
              "      <td>0</td>\n",
              "    </tr>\n",
              "    <tr>\n",
              "      <th>2</th>\n",
              "      <td>0</td>\n",
              "      <td>0</td>\n",
              "      <td>0</td>\n",
              "    </tr>\n",
              "    <tr>\n",
              "      <th>3</th>\n",
              "      <td>0</td>\n",
              "      <td>0</td>\n",
              "      <td>0</td>\n",
              "    </tr>\n",
              "    <tr>\n",
              "      <th>4</th>\n",
              "      <td>1</td>\n",
              "      <td>0</td>\n",
              "      <td>1</td>\n",
              "    </tr>\n",
              "    <tr>\n",
              "      <th>...</th>\n",
              "      <td>...</td>\n",
              "      <td>...</td>\n",
              "      <td>...</td>\n",
              "    </tr>\n",
              "    <tr>\n",
              "      <th>9995</th>\n",
              "      <td>0</td>\n",
              "      <td>0</td>\n",
              "      <td>0</td>\n",
              "    </tr>\n",
              "    <tr>\n",
              "      <th>9996</th>\n",
              "      <td>1</td>\n",
              "      <td>1</td>\n",
              "      <td>1</td>\n",
              "    </tr>\n",
              "    <tr>\n",
              "      <th>9997</th>\n",
              "      <td>0</td>\n",
              "      <td>0</td>\n",
              "      <td>0</td>\n",
              "    </tr>\n",
              "    <tr>\n",
              "      <th>9998</th>\n",
              "      <td>0</td>\n",
              "      <td>0</td>\n",
              "      <td>0</td>\n",
              "    </tr>\n",
              "    <tr>\n",
              "      <th>9999</th>\n",
              "      <td>0</td>\n",
              "      <td>0</td>\n",
              "      <td>0</td>\n",
              "    </tr>\n",
              "  </tbody>\n",
              "</table>\n",
              "<p>10000 rows × 3 columns</p>\n",
              "</div>"
            ],
            "text/plain": [
              "      smoker  treatment  dead\n",
              "0          0          0     1\n",
              "1          1          1     0\n",
              "2          0          0     0\n",
              "3          0          0     0\n",
              "4          1          0     1\n",
              "...      ...        ...   ...\n",
              "9995       0          0     0\n",
              "9996       1          1     1\n",
              "9997       0          0     0\n",
              "9998       0          0     0\n",
              "9999       0          0     0\n",
              "\n",
              "[10000 rows x 3 columns]"
            ]
          },
          "execution_count": 2,
          "metadata": {},
          "output_type": "execute_result"
        }
      ],
      "source": [
        "df = pd.read_csv(\"https://raw.githubusercontent.com/ISSS623-AHA/Lecture---Hands-on-Codes/main/Lecture%203/sample.csv\")\n",
        "df = df.sample(10000)\n",
        "df = df.reset_index(drop=True)\n",
        "df"
      ]
    },
    {
      "cell_type": "markdown",
      "metadata": {
        "id": "zlWYqnzpjCRE"
      },
      "source": [
        "## 1.1 Simple Analysis Without Knowledge of Confounders"
      ]
    },
    {
      "cell_type": "markdown",
      "metadata": {
        "id": "Jt4kcpETjCRF"
      },
      "source": [
        "How much will the proportion of dead change if we were to treat everyone (ignoring whether they are smokers)?"
      ]
    },
    {
      "cell_type": "code",
      "execution_count": 3,
      "metadata": {
        "id": "R89esfGCjCRF"
      },
      "outputs": [],
      "source": [
        "treated = df[df[\"treatment\"]==1]\n",
        "untreated = df[df[\"treatment\"]==0]"
      ]
    },
    {
      "cell_type": "code",
      "execution_count": 4,
      "metadata": {
        "colab": {
          "base_uri": "https://localhost:8080/"
        },
        "id": "IA6KxxBSjCRG",
        "outputId": "6a0d55bb-ab2d-4bef-ccb0-a765cdb8fff5"
      },
      "outputs": [
        {
          "data": {
            "text/plain": [
              "0.33747547416612167"
            ]
          },
          "execution_count": 4,
          "metadata": {},
          "output_type": "execute_result"
        }
      ],
      "source": [
        "percentage_dead_treated = treated[\"dead\"].mean()\n",
        "percentage_dead_treated"
      ]
    },
    {
      "cell_type": "code",
      "execution_count": 5,
      "metadata": {
        "colab": {
          "base_uri": "https://localhost:8080/"
        },
        "id": "WIRcXIF_jCRG",
        "outputId": "e249d5ea-bda0-4356-8ed9-5a0f44d70ba7"
      },
      "outputs": [
        {
          "data": {
            "text/plain": [
              "0.23220973782771537"
            ]
          },
          "execution_count": 5,
          "metadata": {},
          "output_type": "execute_result"
        }
      ],
      "source": [
        "percentage_dead_untreated= untreated[\"dead\"].mean()\n",
        "percentage_dead_untreated"
      ]
    },
    {
      "cell_type": "code",
      "execution_count": 6,
      "metadata": {
        "colab": {
          "base_uri": "https://localhost:8080/"
        },
        "id": "Cgqe2TKkjCRH",
        "outputId": "53f4f7e6-288a-4ae6-ac79-f266e8bb15a7"
      },
      "outputs": [
        {
          "name": "stdout",
          "output_type": "stream",
          "text": [
            "ATE= 0.1052657363384063\n"
          ]
        }
      ],
      "source": [
        "ATE1=percentage_dead_treated - percentage_dead_untreated\n",
        "print('ATE=',ATE1)"
      ]
    },
    {
      "cell_type": "markdown",
      "metadata": {
        "id": "9noeA9_JjCRH"
      },
      "source": [
        "The proportion of dead increase by 8.4% if we were to treat everyone? Hence, we should stop the treatment immediately?"
      ]
    },
    {
      "cell_type": "markdown",
      "metadata": {
        "id": "tiPh4R2ijCRH"
      },
      "source": [
        "## 1.2 Using Basic Propensity Score based on 1 confounder"
      ]
    },
    {
      "cell_type": "markdown",
      "metadata": {
        "id": "PXqm-JdhjCRI"
      },
      "source": [
        "Find P(Treated|smoker)"
      ]
    },
    {
      "cell_type": "code",
      "execution_count": 7,
      "metadata": {
        "colab": {
          "base_uri": "https://localhost:8080/"
        },
        "id": "NzAq4CqfjCRI",
        "outputId": "4c01009b-1704-4e98-bae1-26737cd836ac"
      },
      "outputs": [
        {
          "name": "stdout",
          "output_type": "stream",
          "text": [
            "0.5619295958279009\n"
          ]
        }
      ],
      "source": [
        "n_smokers = len(df[df[\"smoker\"]==1])\n",
        "n_treated_smokers = len(df[(df[\"smoker\"]==1) & (df[\"treatment\"]==1)])\n",
        "p_treated_smokers = n_treated_smokers/n_smokers\n",
        "print(p_treated_smokers)"
      ]
    },
    {
      "cell_type": "markdown",
      "metadata": {
        "id": "wCkLHJCbjCRI"
      },
      "source": [
        "Find P(Treated|non-smoker)"
      ]
    },
    {
      "cell_type": "code",
      "execution_count": 8,
      "metadata": {
        "colab": {
          "base_uri": "https://localhost:8080/"
        },
        "id": "_dL7eYSwjCRI",
        "outputId": "64ac5e02-ee19-47c1-8c91-befc5c0028f5"
      },
      "outputs": [
        {
          "name": "stdout",
          "output_type": "stream",
          "text": [
            "0.1924408540103866\n"
          ]
        }
      ],
      "source": [
        "n_non_smokers = len(df[df[\"smoker\"]==0])\n",
        "n_treated_non_smokers = len(df[(df[\"smoker\"]==0) & (df[\"treatment\"]==1)])\n",
        "p_treated_non_smokers = n_treated_non_smokers/n_non_smokers\n",
        "print(p_treated_non_smokers)"
      ]
    },
    {
      "cell_type": "markdown",
      "metadata": {
        "id": "-txhDw6fjCRJ"
      },
      "source": [
        "Assign Propensity Score to each subject with 'smoker' as the only confounder"
      ]
    },
    {
      "cell_type": "code",
      "execution_count": 9,
      "metadata": {
        "colab": {
          "base_uri": "https://localhost:8080/",
          "height": 423
        },
        "id": "q-6qRenLjCRJ",
        "outputId": "a0e4e5dd-cbdb-41fd-c3c7-9f9f5f29e429"
      },
      "outputs": [
        {
          "data": {
            "text/html": [
              "<div>\n",
              "<style scoped>\n",
              "    .dataframe tbody tr th:only-of-type {\n",
              "        vertical-align: middle;\n",
              "    }\n",
              "\n",
              "    .dataframe tbody tr th {\n",
              "        vertical-align: top;\n",
              "    }\n",
              "\n",
              "    .dataframe thead th {\n",
              "        text-align: right;\n",
              "    }\n",
              "</style>\n",
              "<table border=\"1\" class=\"dataframe\">\n",
              "  <thead>\n",
              "    <tr style=\"text-align: right;\">\n",
              "      <th></th>\n",
              "      <th>smoker</th>\n",
              "      <th>treatment</th>\n",
              "      <th>dead</th>\n",
              "      <th>propensity</th>\n",
              "    </tr>\n",
              "  </thead>\n",
              "  <tbody>\n",
              "    <tr>\n",
              "      <th>0</th>\n",
              "      <td>0</td>\n",
              "      <td>0</td>\n",
              "      <td>1</td>\n",
              "      <td>0.192441</td>\n",
              "    </tr>\n",
              "    <tr>\n",
              "      <th>1</th>\n",
              "      <td>1</td>\n",
              "      <td>1</td>\n",
              "      <td>0</td>\n",
              "      <td>0.561930</td>\n",
              "    </tr>\n",
              "    <tr>\n",
              "      <th>2</th>\n",
              "      <td>0</td>\n",
              "      <td>0</td>\n",
              "      <td>0</td>\n",
              "      <td>0.192441</td>\n",
              "    </tr>\n",
              "    <tr>\n",
              "      <th>3</th>\n",
              "      <td>0</td>\n",
              "      <td>0</td>\n",
              "      <td>0</td>\n",
              "      <td>0.192441</td>\n",
              "    </tr>\n",
              "    <tr>\n",
              "      <th>4</th>\n",
              "      <td>1</td>\n",
              "      <td>0</td>\n",
              "      <td>1</td>\n",
              "      <td>0.561930</td>\n",
              "    </tr>\n",
              "    <tr>\n",
              "      <th>...</th>\n",
              "      <td>...</td>\n",
              "      <td>...</td>\n",
              "      <td>...</td>\n",
              "      <td>...</td>\n",
              "    </tr>\n",
              "    <tr>\n",
              "      <th>9995</th>\n",
              "      <td>0</td>\n",
              "      <td>0</td>\n",
              "      <td>0</td>\n",
              "      <td>0.192441</td>\n",
              "    </tr>\n",
              "    <tr>\n",
              "      <th>9996</th>\n",
              "      <td>1</td>\n",
              "      <td>1</td>\n",
              "      <td>1</td>\n",
              "      <td>0.561930</td>\n",
              "    </tr>\n",
              "    <tr>\n",
              "      <th>9997</th>\n",
              "      <td>0</td>\n",
              "      <td>0</td>\n",
              "      <td>0</td>\n",
              "      <td>0.192441</td>\n",
              "    </tr>\n",
              "    <tr>\n",
              "      <th>9998</th>\n",
              "      <td>0</td>\n",
              "      <td>0</td>\n",
              "      <td>0</td>\n",
              "      <td>0.192441</td>\n",
              "    </tr>\n",
              "    <tr>\n",
              "      <th>9999</th>\n",
              "      <td>0</td>\n",
              "      <td>0</td>\n",
              "      <td>0</td>\n",
              "      <td>0.192441</td>\n",
              "    </tr>\n",
              "  </tbody>\n",
              "</table>\n",
              "<p>10000 rows × 4 columns</p>\n",
              "</div>"
            ],
            "text/plain": [
              "      smoker  treatment  dead  propensity\n",
              "0          0          0     1    0.192441\n",
              "1          1          1     0    0.561930\n",
              "2          0          0     0    0.192441\n",
              "3          0          0     0    0.192441\n",
              "4          1          0     1    0.561930\n",
              "...      ...        ...   ...         ...\n",
              "9995       0          0     0    0.192441\n",
              "9996       1          1     1    0.561930\n",
              "9997       0          0     0    0.192441\n",
              "9998       0          0     0    0.192441\n",
              "9999       0          0     0    0.192441\n",
              "\n",
              "[10000 rows x 4 columns]"
            ]
          },
          "execution_count": 9,
          "metadata": {},
          "output_type": "execute_result"
        }
      ],
      "source": [
        "df[\"propensity\"] = df[\"smoker\"]*p_treated_smokers + (1-df[\"smoker\"])*p_treated_non_smokers #\n",
        "df"
      ]
    },
    {
      "cell_type": "markdown",
      "metadata": {
        "id": "GFDmPKmmjCRJ"
      },
      "source": [
        "Matching each treated patient with a counterfactual control person with the same propensity score with random sampling (with replacement) from the untreated patients"
      ]
    },
    {
      "cell_type": "code",
      "execution_count": 10,
      "metadata": {
        "colab": {
          "base_uri": "https://localhost:8080/",
          "height": 423
        },
        "id": "0hLxpMUwjCRJ",
        "outputId": "0d290320-7f31-4014-e747-4456e49fddc3"
      },
      "outputs": [
        {
          "data": {
            "text/html": [
              "<div>\n",
              "<style scoped>\n",
              "    .dataframe tbody tr th:only-of-type {\n",
              "        vertical-align: middle;\n",
              "    }\n",
              "\n",
              "    .dataframe tbody tr th {\n",
              "        vertical-align: top;\n",
              "    }\n",
              "\n",
              "    .dataframe thead th {\n",
              "        text-align: right;\n",
              "    }\n",
              "</style>\n",
              "<table border=\"1\" class=\"dataframe\">\n",
              "  <thead>\n",
              "    <tr style=\"text-align: right;\">\n",
              "      <th></th>\n",
              "      <th>smoker</th>\n",
              "      <th>treatment</th>\n",
              "      <th>dead</th>\n",
              "      <th>propensity</th>\n",
              "    </tr>\n",
              "  </thead>\n",
              "  <tbody>\n",
              "    <tr>\n",
              "      <th>0</th>\n",
              "      <td>1.0</td>\n",
              "      <td>0.0</td>\n",
              "      <td>1.0</td>\n",
              "      <td>0.561930</td>\n",
              "    </tr>\n",
              "    <tr>\n",
              "      <th>1</th>\n",
              "      <td>1.0</td>\n",
              "      <td>0.0</td>\n",
              "      <td>1.0</td>\n",
              "      <td>0.561930</td>\n",
              "    </tr>\n",
              "    <tr>\n",
              "      <th>2</th>\n",
              "      <td>1.0</td>\n",
              "      <td>0.0</td>\n",
              "      <td>1.0</td>\n",
              "      <td>0.561930</td>\n",
              "    </tr>\n",
              "    <tr>\n",
              "      <th>3</th>\n",
              "      <td>1.0</td>\n",
              "      <td>0.0</td>\n",
              "      <td>1.0</td>\n",
              "      <td>0.561930</td>\n",
              "    </tr>\n",
              "    <tr>\n",
              "      <th>4</th>\n",
              "      <td>1.0</td>\n",
              "      <td>0.0</td>\n",
              "      <td>1.0</td>\n",
              "      <td>0.561930</td>\n",
              "    </tr>\n",
              "    <tr>\n",
              "      <th>...</th>\n",
              "      <td>...</td>\n",
              "      <td>...</td>\n",
              "      <td>...</td>\n",
              "      <td>...</td>\n",
              "    </tr>\n",
              "    <tr>\n",
              "      <th>995</th>\n",
              "      <td>1.0</td>\n",
              "      <td>0.0</td>\n",
              "      <td>0.0</td>\n",
              "      <td>0.561930</td>\n",
              "    </tr>\n",
              "    <tr>\n",
              "      <th>996</th>\n",
              "      <td>1.0</td>\n",
              "      <td>0.0</td>\n",
              "      <td>0.0</td>\n",
              "      <td>0.561930</td>\n",
              "    </tr>\n",
              "    <tr>\n",
              "      <th>997</th>\n",
              "      <td>0.0</td>\n",
              "      <td>0.0</td>\n",
              "      <td>1.0</td>\n",
              "      <td>0.192441</td>\n",
              "    </tr>\n",
              "    <tr>\n",
              "      <th>998</th>\n",
              "      <td>0.0</td>\n",
              "      <td>0.0</td>\n",
              "      <td>0.0</td>\n",
              "      <td>0.192441</td>\n",
              "    </tr>\n",
              "    <tr>\n",
              "      <th>999</th>\n",
              "      <td>1.0</td>\n",
              "      <td>0.0</td>\n",
              "      <td>0.0</td>\n",
              "      <td>0.561930</td>\n",
              "    </tr>\n",
              "  </tbody>\n",
              "</table>\n",
              "<p>1000 rows × 4 columns</p>\n",
              "</div>"
            ],
            "text/plain": [
              "     smoker  treatment  dead  propensity\n",
              "0       1.0        0.0   1.0    0.561930\n",
              "1       1.0        0.0   1.0    0.561930\n",
              "2       1.0        0.0   1.0    0.561930\n",
              "3       1.0        0.0   1.0    0.561930\n",
              "4       1.0        0.0   1.0    0.561930\n",
              "..      ...        ...   ...         ...\n",
              "995     1.0        0.0   0.0    0.561930\n",
              "996     1.0        0.0   0.0    0.561930\n",
              "997     0.0        0.0   1.0    0.192441\n",
              "998     0.0        0.0   0.0    0.192441\n",
              "999     1.0        0.0   0.0    0.561930\n",
              "\n",
              "[1000 rows x 4 columns]"
            ]
          },
          "execution_count": 10,
          "metadata": {},
          "output_type": "execute_result"
        }
      ],
      "source": [
        "treated = df[df[\"treatment\"]==1].sample(1000)\n",
        "untreated = df[df[\"treatment\"]==0]\n",
        "\n",
        "treated = treated.reset_index(drop=True)\n",
        "matched_control=[]\n",
        "\n",
        "def add_matched_control(patient):\n",
        "    control_patient = untreated[untreated[\"propensity\"]==patient[\"propensity\"]].sample().iloc[0]\n",
        "    matched_control.append(control_patient)\n",
        "    \n",
        "treated.apply(add_matched_control, axis=1)\n",
        "matched_control_df = pd.DataFrame(matched_control).reset_index(drop=True)\n",
        "matched_control_df"
      ]
    },
    {
      "cell_type": "code",
      "execution_count": 11,
      "metadata": {
        "colab": {
          "base_uri": "https://localhost:8080/",
          "height": 467
        },
        "id": "dcrZVac3jCRK",
        "outputId": "336e398b-1223-454b-901b-86439ceb8467"
      },
      "outputs": [
        {
          "data": {
            "text/html": [
              "<div>\n",
              "<style scoped>\n",
              "    .dataframe tbody tr th:only-of-type {\n",
              "        vertical-align: middle;\n",
              "    }\n",
              "\n",
              "    .dataframe tbody tr th {\n",
              "        vertical-align: top;\n",
              "    }\n",
              "\n",
              "    .dataframe thead th {\n",
              "        text-align: right;\n",
              "    }\n",
              "</style>\n",
              "<table border=\"1\" class=\"dataframe\">\n",
              "  <thead>\n",
              "    <tr style=\"text-align: right;\">\n",
              "      <th></th>\n",
              "      <th>smoker</th>\n",
              "      <th>treatment</th>\n",
              "      <th>dead</th>\n",
              "      <th>propensity</th>\n",
              "      <th>smoker_control</th>\n",
              "      <th>treatment_control</th>\n",
              "      <th>dead_control</th>\n",
              "      <th>propensity_control</th>\n",
              "    </tr>\n",
              "  </thead>\n",
              "  <tbody>\n",
              "    <tr>\n",
              "      <th>0</th>\n",
              "      <td>1</td>\n",
              "      <td>1</td>\n",
              "      <td>0</td>\n",
              "      <td>0.561930</td>\n",
              "      <td>1.0</td>\n",
              "      <td>0.0</td>\n",
              "      <td>1.0</td>\n",
              "      <td>0.561930</td>\n",
              "    </tr>\n",
              "    <tr>\n",
              "      <th>1</th>\n",
              "      <td>1</td>\n",
              "      <td>1</td>\n",
              "      <td>0</td>\n",
              "      <td>0.561930</td>\n",
              "      <td>1.0</td>\n",
              "      <td>0.0</td>\n",
              "      <td>1.0</td>\n",
              "      <td>0.561930</td>\n",
              "    </tr>\n",
              "    <tr>\n",
              "      <th>2</th>\n",
              "      <td>1</td>\n",
              "      <td>1</td>\n",
              "      <td>1</td>\n",
              "      <td>0.561930</td>\n",
              "      <td>1.0</td>\n",
              "      <td>0.0</td>\n",
              "      <td>1.0</td>\n",
              "      <td>0.561930</td>\n",
              "    </tr>\n",
              "    <tr>\n",
              "      <th>3</th>\n",
              "      <td>1</td>\n",
              "      <td>1</td>\n",
              "      <td>0</td>\n",
              "      <td>0.561930</td>\n",
              "      <td>1.0</td>\n",
              "      <td>0.0</td>\n",
              "      <td>1.0</td>\n",
              "      <td>0.561930</td>\n",
              "    </tr>\n",
              "    <tr>\n",
              "      <th>4</th>\n",
              "      <td>1</td>\n",
              "      <td>1</td>\n",
              "      <td>0</td>\n",
              "      <td>0.561930</td>\n",
              "      <td>1.0</td>\n",
              "      <td>0.0</td>\n",
              "      <td>1.0</td>\n",
              "      <td>0.561930</td>\n",
              "    </tr>\n",
              "    <tr>\n",
              "      <th>...</th>\n",
              "      <td>...</td>\n",
              "      <td>...</td>\n",
              "      <td>...</td>\n",
              "      <td>...</td>\n",
              "      <td>...</td>\n",
              "      <td>...</td>\n",
              "      <td>...</td>\n",
              "      <td>...</td>\n",
              "    </tr>\n",
              "    <tr>\n",
              "      <th>995</th>\n",
              "      <td>1</td>\n",
              "      <td>1</td>\n",
              "      <td>1</td>\n",
              "      <td>0.561930</td>\n",
              "      <td>1.0</td>\n",
              "      <td>0.0</td>\n",
              "      <td>0.0</td>\n",
              "      <td>0.561930</td>\n",
              "    </tr>\n",
              "    <tr>\n",
              "      <th>996</th>\n",
              "      <td>1</td>\n",
              "      <td>1</td>\n",
              "      <td>1</td>\n",
              "      <td>0.561930</td>\n",
              "      <td>1.0</td>\n",
              "      <td>0.0</td>\n",
              "      <td>0.0</td>\n",
              "      <td>0.561930</td>\n",
              "    </tr>\n",
              "    <tr>\n",
              "      <th>997</th>\n",
              "      <td>0</td>\n",
              "      <td>1</td>\n",
              "      <td>0</td>\n",
              "      <td>0.192441</td>\n",
              "      <td>0.0</td>\n",
              "      <td>0.0</td>\n",
              "      <td>1.0</td>\n",
              "      <td>0.192441</td>\n",
              "    </tr>\n",
              "    <tr>\n",
              "      <th>998</th>\n",
              "      <td>0</td>\n",
              "      <td>1</td>\n",
              "      <td>0</td>\n",
              "      <td>0.192441</td>\n",
              "      <td>0.0</td>\n",
              "      <td>0.0</td>\n",
              "      <td>0.0</td>\n",
              "      <td>0.192441</td>\n",
              "    </tr>\n",
              "    <tr>\n",
              "      <th>999</th>\n",
              "      <td>1</td>\n",
              "      <td>1</td>\n",
              "      <td>1</td>\n",
              "      <td>0.561930</td>\n",
              "      <td>1.0</td>\n",
              "      <td>0.0</td>\n",
              "      <td>0.0</td>\n",
              "      <td>0.561930</td>\n",
              "    </tr>\n",
              "  </tbody>\n",
              "</table>\n",
              "<p>1000 rows × 8 columns</p>\n",
              "</div>"
            ],
            "text/plain": [
              "     smoker  treatment  dead  propensity  smoker_control  treatment_control  \\\n",
              "0         1          1     0    0.561930             1.0                0.0   \n",
              "1         1          1     0    0.561930             1.0                0.0   \n",
              "2         1          1     1    0.561930             1.0                0.0   \n",
              "3         1          1     0    0.561930             1.0                0.0   \n",
              "4         1          1     0    0.561930             1.0                0.0   \n",
              "..      ...        ...   ...         ...             ...                ...   \n",
              "995       1          1     1    0.561930             1.0                0.0   \n",
              "996       1          1     1    0.561930             1.0                0.0   \n",
              "997       0          1     0    0.192441             0.0                0.0   \n",
              "998       0          1     0    0.192441             0.0                0.0   \n",
              "999       1          1     1    0.561930             1.0                0.0   \n",
              "\n",
              "     dead_control  propensity_control  \n",
              "0             1.0            0.561930  \n",
              "1             1.0            0.561930  \n",
              "2             1.0            0.561930  \n",
              "3             1.0            0.561930  \n",
              "4             1.0            0.561930  \n",
              "..            ...                 ...  \n",
              "995           0.0            0.561930  \n",
              "996           0.0            0.561930  \n",
              "997           1.0            0.192441  \n",
              "998           0.0            0.192441  \n",
              "999           0.0            0.561930  \n",
              "\n",
              "[1000 rows x 8 columns]"
            ]
          },
          "execution_count": 11,
          "metadata": {},
          "output_type": "execute_result"
        }
      ],
      "source": [
        "paired_sample = treated.join(matched_control_df, rsuffix=\"_control\")\n",
        "paired_sample"
      ]
    },
    {
      "cell_type": "code",
      "execution_count": 12,
      "metadata": {
        "colab": {
          "base_uri": "https://localhost:8080/"
        },
        "id": "a2jwiBJgjCRK",
        "outputId": "69f1b63e-61e6-4de9-93e6-45e4e7fa8aa8"
      },
      "outputs": [
        {
          "name": "stdout",
          "output_type": "stream",
          "text": [
            "ATE= -0.131\n"
          ]
        }
      ],
      "source": [
        "ATE2 = (paired_sample[\"dead\"]-paired_sample[\"dead_control\"]).mean()\n",
        "print('ATE=',ATE2)"
      ]
    },
    {
      "cell_type": "markdown",
      "metadata": {
        "id": "2gJUigB4jCRK"
      },
      "source": [
        "The percentage of death is now estimated to be lower for treatment compared to no treatment. There is a reversal of the association."
      ]
    },
    {
      "cell_type": "markdown",
      "metadata": {
        "id": "a01mVrNQjCRL"
      },
      "source": [
        "There is certainly some bias, but there are sophisticated methods to deal with them in Propensity Score technique. The way to do the matching is also another factor. There are many ways to do so."
      ]
    },
    {
      "cell_type": "markdown",
      "metadata": {
        "id": "eeF3ZDPjjCRL"
      },
      "source": [
        "# 1.3 Using Subclassification for 1 Confounder for matching"
      ]
    },
    {
      "cell_type": "code",
      "execution_count": 13,
      "metadata": {
        "colab": {
          "base_uri": "https://localhost:8080/",
          "height": 281
        },
        "id": "X2n0wa7sjCRL",
        "outputId": "603c919b-2a60-488f-ef29-7eccd3ba2be5"
      },
      "outputs": [
        {
          "data": {
            "image/png": "[encoded data removed]",
            "text/plain": [
              "<Figure size 640x480 with 1 Axes>"
            ]
          },
          "metadata": {},
          "output_type": "display_data"
        }
      ],
      "source": [
        "# There are 2 groups of propensity scores (obviously)\n",
        "df.hist(\"propensity\")\n",
        "pass"
      ]
    },
    {
      "cell_type": "code",
      "execution_count": 14,
      "metadata": {
        "colab": {
          "base_uri": "https://localhost:8080/"
        },
        "id": "km-jcXzRjCRL",
        "outputId": "fabcb486-d2ab-40cf-dbe2-b2b698f35d31"
      },
      "outputs": [
        {
          "data": {
            "text/plain": [
              "array([0.6932, 0.3068])"
            ]
          },
          "execution_count": 14,
          "metadata": {},
          "output_type": "execute_result"
        }
      ],
      "source": [
        "# Define the 2 groups as high and low propensity\n",
        "high_propensity = df[df[\"propensity\"]==p_treated_smokers]\n",
        "low_propensity = df[df[\"propensity\"]==p_treated_non_smokers]\n",
        "\n",
        "# Compute percentage in each propensity group\n",
        "counts = np.array([len(low_propensity),len(high_propensity)])\n",
        "percentages= counts / np.sum(counts)\n",
        "percentages"
      ]
    },
    {
      "cell_type": "code",
      "execution_count": 15,
      "metadata": {
        "colab": {
          "base_uri": "https://localhost:8080/"
        },
        "id": "XOQijNFQjCRL",
        "outputId": "3d123794-cb20-4929-b58d-cf2c0609ae77"
      },
      "outputs": [
        {
          "data": {
            "text/plain": [
              "0.01822963116512484"
            ]
          },
          "execution_count": 15,
          "metadata": {},
          "output_type": "execute_result"
        }
      ],
      "source": [
        "low_propensity_treated = low_propensity[low_propensity[\"treatment\"]==1]\n",
        "low_propensity_untreated = low_propensity[low_propensity[\"treatment\"]==0]\n",
        "ATE_low_propensity = low_propensity_treated[\"dead\"].mean()-low_propensity_untreated[\"dead\"].mean()\n",
        "ATE_low_propensity\n"
      ]
    },
    {
      "cell_type": "code",
      "execution_count": 16,
      "metadata": {
        "colab": {
          "base_uri": "https://localhost:8080/"
        },
        "id": "EonQHvA6jCRM",
        "outputId": "00141ae0-3747-4de9-ce70-dd5bca87b926"
      },
      "outputs": [
        {
          "data": {
            "text/plain": [
              "-0.28775825875593863"
            ]
          },
          "execution_count": 16,
          "metadata": {},
          "output_type": "execute_result"
        }
      ],
      "source": [
        "high_propensity_treated = high_propensity[high_propensity[\"treatment\"]==1]\n",
        "high_propensity_untreated = high_propensity[high_propensity[\"treatment\"]==0]\n",
        "ATE_high_propensity = high_propensity_treated[\"dead\"].mean()-high_propensity_untreated[\"dead\"].mean()\n",
        "ATE_high_propensity"
      ]
    },
    {
      "cell_type": "code",
      "execution_count": 17,
      "metadata": {
        "colab": {
          "base_uri": "https://localhost:8080/"
        },
        "id": "8MGQxILVjCRM",
        "outputId": "e40da424-0eb7-41ae-9bb0-e7f37a2e229f"
      },
      "outputs": [
        {
          "name": "stdout",
          "output_type": "stream",
          "text": [
            "ATE= -0.07564745346265744\n"
          ]
        }
      ],
      "source": [
        "# Find the weighted average across both groups (less biased)\n",
        "ATE3 = percentages[0] * ATE_low_propensity + percentages[1] * ATE_high_propensity\n",
        "print('ATE=',ATE3)\n",
        "\n",
        "# NOTE: Theoretical ATE given the generating function for the random variables is 0.083"
      ]
    },
    {
      "cell_type": "markdown",
      "metadata": {
        "id": "TRFUwH1ZjCRM"
      },
      "source": [
        "## 2. Using Logistic Regression to estimate Propensity Scores for problem with multiple confounders\n",
        "- Example is based on Vanderbilt Right Heart Cathetherization Dataset\n",
        "- Dataset description: https://biostat.app.vumc.org/wiki/pub/Main/DataSets/Crhc.html"
      ]
    },
    {
      "cell_type": "code",
      "execution_count": 18,
      "metadata": {
        "id": "WmMFdbtnjCRM"
      },
      "outputs": [],
      "source": [
        "rhc=pd.read_csv('https://raw.githubusercontent.com/ISSS623-AHA/Lecture---Hands-on-Codes/main/Lecture%203/rhc.csv')"
      ]
    },
    {
      "cell_type": "code",
      "execution_count": 19,
      "metadata": {
        "colab": {
          "base_uri": "https://localhost:8080/"
        },
        "id": "e0dm1ug_jCRM",
        "outputId": "9fc43e94-3184-409e-9901-4c4550b3f9d0"
      },
      "outputs": [
        {
          "data": {
            "text/plain": [
              "Index(['Unnamed: 0', 'cat1', 'cat2', 'ca', 'sadmdte', 'dschdte', 'dthdte',\n",
              "       'lstctdte', 'death', 'cardiohx', 'chfhx', 'dementhx', 'psychhx',\n",
              "       'chrpulhx', 'renalhx', 'liverhx', 'gibledhx', 'malighx', 'immunhx',\n",
              "       'transhx', 'amihx', 'age', 'sex', 'edu', 'surv2md1', 'das2d3pc',\n",
              "       't3d30', 'dth30', 'aps1', 'scoma1', 'meanbp1', 'wblc1', 'hrt1', 'resp1',\n",
              "       'temp1', 'pafi1', 'alb1', 'hema1', 'bili1', 'crea1', 'sod1', 'pot1',\n",
              "       'paco21', 'ph1', 'swang1', 'wtkilo1', 'dnr1', 'ninsclas', 'resp',\n",
              "       'card', 'neuro', 'gastr', 'renal', 'meta', 'hema', 'seps', 'trauma',\n",
              "       'ortho', 'adld3p', 'urin1', 'race', 'income', 'ptid'],\n",
              "      dtype='object')"
            ]
          },
          "execution_count": 19,
          "metadata": {},
          "output_type": "execute_result"
        }
      ],
      "source": [
        "rhc.columns"
      ]
    },
    {
      "cell_type": "code",
      "execution_count": 20,
      "metadata": {
        "colab": {
          "base_uri": "https://localhost:8080/",
          "height": 386
        },
        "id": "MtNxleugjCRM",
        "outputId": "54de47d8-9d02-4c08-d0a9-3a038a49acad"
      },
      "outputs": [
        {
          "data": {
            "text/html": [
              "<div>\n",
              "<style scoped>\n",
              "    .dataframe tbody tr th:only-of-type {\n",
              "        vertical-align: middle;\n",
              "    }\n",
              "\n",
              "    .dataframe tbody tr th {\n",
              "        vertical-align: top;\n",
              "    }\n",
              "\n",
              "    .dataframe thead th {\n",
              "        text-align: right;\n",
              "    }\n",
              "</style>\n",
              "<table border=\"1\" class=\"dataframe\">\n",
              "  <thead>\n",
              "    <tr style=\"text-align: right;\">\n",
              "      <th></th>\n",
              "      <th>Unnamed: 0</th>\n",
              "      <th>cat1</th>\n",
              "      <th>cat2</th>\n",
              "      <th>ca</th>\n",
              "      <th>sadmdte</th>\n",
              "      <th>dschdte</th>\n",
              "      <th>dthdte</th>\n",
              "      <th>lstctdte</th>\n",
              "      <th>death</th>\n",
              "      <th>cardiohx</th>\n",
              "      <th>...</th>\n",
              "      <th>meta</th>\n",
              "      <th>hema</th>\n",
              "      <th>seps</th>\n",
              "      <th>trauma</th>\n",
              "      <th>ortho</th>\n",
              "      <th>adld3p</th>\n",
              "      <th>urin1</th>\n",
              "      <th>race</th>\n",
              "      <th>income</th>\n",
              "      <th>ptid</th>\n",
              "    </tr>\n",
              "  </thead>\n",
              "  <tbody>\n",
              "    <tr>\n",
              "      <th>0</th>\n",
              "      <td>1</td>\n",
              "      <td>COPD</td>\n",
              "      <td>NaN</td>\n",
              "      <td>Yes</td>\n",
              "      <td>11142</td>\n",
              "      <td>11151.0</td>\n",
              "      <td>NaN</td>\n",
              "      <td>11382</td>\n",
              "      <td>No</td>\n",
              "      <td>0</td>\n",
              "      <td>...</td>\n",
              "      <td>No</td>\n",
              "      <td>No</td>\n",
              "      <td>No</td>\n",
              "      <td>No</td>\n",
              "      <td>No</td>\n",
              "      <td>0.0</td>\n",
              "      <td>NaN</td>\n",
              "      <td>white</td>\n",
              "      <td>Under $11k</td>\n",
              "      <td>5</td>\n",
              "    </tr>\n",
              "    <tr>\n",
              "      <th>1</th>\n",
              "      <td>2</td>\n",
              "      <td>MOSF w/Sepsis</td>\n",
              "      <td>NaN</td>\n",
              "      <td>No</td>\n",
              "      <td>11799</td>\n",
              "      <td>11844.0</td>\n",
              "      <td>11844.0</td>\n",
              "      <td>11844</td>\n",
              "      <td>Yes</td>\n",
              "      <td>1</td>\n",
              "      <td>...</td>\n",
              "      <td>No</td>\n",
              "      <td>No</td>\n",
              "      <td>Yes</td>\n",
              "      <td>No</td>\n",
              "      <td>No</td>\n",
              "      <td>NaN</td>\n",
              "      <td>1437.0</td>\n",
              "      <td>white</td>\n",
              "      <td>Under $11k</td>\n",
              "      <td>7</td>\n",
              "    </tr>\n",
              "    <tr>\n",
              "      <th>2</th>\n",
              "      <td>3</td>\n",
              "      <td>MOSF w/Malignancy</td>\n",
              "      <td>MOSF w/Sepsis</td>\n",
              "      <td>Yes</td>\n",
              "      <td>12083</td>\n",
              "      <td>12143.0</td>\n",
              "      <td>NaN</td>\n",
              "      <td>12400</td>\n",
              "      <td>No</td>\n",
              "      <td>0</td>\n",
              "      <td>...</td>\n",
              "      <td>No</td>\n",
              "      <td>No</td>\n",
              "      <td>No</td>\n",
              "      <td>No</td>\n",
              "      <td>No</td>\n",
              "      <td>NaN</td>\n",
              "      <td>599.0</td>\n",
              "      <td>white</td>\n",
              "      <td>$25-$50k</td>\n",
              "      <td>9</td>\n",
              "    </tr>\n",
              "    <tr>\n",
              "      <th>3</th>\n",
              "      <td>4</td>\n",
              "      <td>ARF</td>\n",
              "      <td>NaN</td>\n",
              "      <td>No</td>\n",
              "      <td>11146</td>\n",
              "      <td>11183.0</td>\n",
              "      <td>11183.0</td>\n",
              "      <td>11182</td>\n",
              "      <td>Yes</td>\n",
              "      <td>0</td>\n",
              "      <td>...</td>\n",
              "      <td>No</td>\n",
              "      <td>No</td>\n",
              "      <td>No</td>\n",
              "      <td>No</td>\n",
              "      <td>No</td>\n",
              "      <td>NaN</td>\n",
              "      <td>NaN</td>\n",
              "      <td>white</td>\n",
              "      <td>$11-$25k</td>\n",
              "      <td>10</td>\n",
              "    </tr>\n",
              "    <tr>\n",
              "      <th>4</th>\n",
              "      <td>5</td>\n",
              "      <td>MOSF w/Sepsis</td>\n",
              "      <td>NaN</td>\n",
              "      <td>No</td>\n",
              "      <td>12035</td>\n",
              "      <td>12037.0</td>\n",
              "      <td>12037.0</td>\n",
              "      <td>12036</td>\n",
              "      <td>Yes</td>\n",
              "      <td>0</td>\n",
              "      <td>...</td>\n",
              "      <td>No</td>\n",
              "      <td>No</td>\n",
              "      <td>No</td>\n",
              "      <td>No</td>\n",
              "      <td>No</td>\n",
              "      <td>NaN</td>\n",
              "      <td>64.0</td>\n",
              "      <td>white</td>\n",
              "      <td>Under $11k</td>\n",
              "      <td>11</td>\n",
              "    </tr>\n",
              "  </tbody>\n",
              "</table>\n",
              "<p>5 rows × 63 columns</p>\n",
              "</div>"
            ],
            "text/plain": [
              "   Unnamed: 0               cat1           cat2   ca  sadmdte  dschdte  \\\n",
              "0           1               COPD            NaN  Yes    11142  11151.0   \n",
              "1           2      MOSF w/Sepsis            NaN   No    11799  11844.0   \n",
              "2           3  MOSF w/Malignancy  MOSF w/Sepsis  Yes    12083  12143.0   \n",
              "3           4                ARF            NaN   No    11146  11183.0   \n",
              "4           5      MOSF w/Sepsis            NaN   No    12035  12037.0   \n",
              "\n",
              "    dthdte  lstctdte death  cardiohx  ...  meta  hema  seps  trauma  ortho  \\\n",
              "0      NaN     11382    No         0  ...    No    No    No      No     No   \n",
              "1  11844.0     11844   Yes         1  ...    No    No   Yes      No     No   \n",
              "2      NaN     12400    No         0  ...    No    No    No      No     No   \n",
              "3  11183.0     11182   Yes         0  ...    No    No    No      No     No   \n",
              "4  12037.0     12036   Yes         0  ...    No    No    No      No     No   \n",
              "\n",
              "   adld3p   urin1   race      income  ptid  \n",
              "0     0.0     NaN  white  Under $11k     5  \n",
              "1     NaN  1437.0  white  Under $11k     7  \n",
              "2     NaN   599.0  white    $25-$50k     9  \n",
              "3     NaN     NaN  white    $11-$25k    10  \n",
              "4     NaN    64.0  white  Under $11k    11  \n",
              "\n",
              "[5 rows x 63 columns]"
            ]
          },
          "execution_count": 20,
          "metadata": {},
          "output_type": "execute_result"
        }
      ],
      "source": [
        "rhc.head()"
      ]
    },
    {
      "cell_type": "code",
      "execution_count": 21,
      "metadata": {
        "colab": {
          "base_uri": "https://localhost:8080/"
        },
        "id": "veVmnPVnjCRN",
        "outputId": "bf972597-cef0-4a91-ea10-64ad22109784"
      },
      "outputs": [
        {
          "data": {
            "text/plain": [
              "swang1\n",
              "No RHC    0.61918\n",
              "RHC       0.38082\n",
              "Name: proportion, dtype: float64"
            ]
          },
          "execution_count": 21,
          "metadata": {},
          "output_type": "execute_result"
        }
      ],
      "source": [
        "rhc=rhc.replace(to_replace = 'Yes', value = 1)\n",
        "rhc=rhc.replace(to_replace = 'No', value = 0)\n",
        "\n",
        "# Treatment variable: swang1. How many received treatment? \n",
        "rhc['swang1'].value_counts(normalize=True)"
      ]
    },
    {
      "cell_type": "code",
      "execution_count": 22,
      "metadata": {
        "id": "p6XTzE8DjCRN"
      },
      "outputs": [],
      "source": [
        "rhc['treated'] = 0\n",
        "rhc['treated'] = rhc['treated'].where(rhc.swang1=='No RHC',1)"
      ]
    },
    {
      "cell_type": "code",
      "execution_count": 23,
      "metadata": {
        "colab": {
          "base_uri": "https://localhost:8080/"
        },
        "id": "rT3So4zejCRN",
        "outputId": "a41d9bde-7d44-41b1-9498-1d6ba0593d69"
      },
      "outputs": [
        {
          "data": {
            "text/plain": [
              "treated\n",
              "0    0.629682\n",
              "1    0.680403\n",
              "Name: death, dtype: float64"
            ]
          },
          "execution_count": 23,
          "metadata": {},
          "output_type": "execute_result"
        }
      ],
      "source": [
        "# Percentage died in the treatment group (percent)\n",
        "rhc.groupby('treated')['death'].mean()"
      ]
    },
    {
      "cell_type": "markdown",
      "metadata": {
        "id": "lxgI9tGGjCRN"
      },
      "source": [
        "## 2.1 Logistic Regression on the Outcomes and Treatment. For Propensity Score, estimate LR model on the Treatment"
      ]
    },
    {
      "cell_type": "code",
      "execution_count": 24,
      "metadata": {
        "colab": {
          "base_uri": "https://localhost:8080/",
          "height": 358
        },
        "id": "zpyt7cIzjCRN",
        "outputId": "2f7c7b5f-0238-43a6-bf81-af30f872e385"
      },
      "outputs": [
        {
          "name": "stdout",
          "output_type": "stream",
          "text": [
            "Optimization terminated successfully.\n",
            "         Current function value: 0.622953\n",
            "         Iterations 5\n"
          ]
        },
        {
          "data": {
            "text/html": [
              "<table class=\"simpletable\">\n",
              "<caption>Logit Regression Results</caption>\n",
              "<tr>\n",
              "  <th>Dep. Variable:</th>         <td>death</td>      <th>  No. Observations:  </th>  <td>  5735</td>  \n",
              "</tr>\n",
              "<tr>\n",
              "  <th>Model:</th>                 <td>Logit</td>      <th>  Df Residuals:      </th>  <td>  5730</td>  \n",
              "</tr>\n",
              "<tr>\n",
              "  <th>Method:</th>                 <td>MLE</td>       <th>  Df Model:          </th>  <td>     4</td>  \n",
              "</tr>\n",
              "<tr>\n",
              "  <th>Date:</th>            <td>Fri, 28 Jul 2023</td> <th>  Pseudo R-squ.:     </th>  <td>0.03875</td> \n",
              "</tr>\n",
              "<tr>\n",
              "  <th>Time:</th>                <td>14:00:35</td>     <th>  Log-Likelihood:    </th> <td> -3572.6</td> \n",
              "</tr>\n",
              "<tr>\n",
              "  <th>converged:</th>             <td>True</td>       <th>  LL-Null:           </th> <td> -3716.7</td> \n",
              "</tr>\n",
              "<tr>\n",
              "  <th>Covariance Type:</th>     <td>nonrobust</td>    <th>  LLR p-value:       </th> <td>4.112e-61</td>\n",
              "</tr>\n",
              "</table>\n",
              "<table class=\"simpletable\">\n",
              "<tr>\n",
              "       <td></td>          <th>coef</th>     <th>std err</th>      <th>z</th>      <th>P>|z|</th>  <th>[0.025</th>    <th>0.975]</th>  \n",
              "</tr>\n",
              "<tr>\n",
              "  <th>Intercept</th>   <td>   -1.2474</td> <td>    0.168</td> <td>   -7.406</td> <td> 0.000</td> <td>   -1.577</td> <td>   -0.917</td>\n",
              "</tr>\n",
              "<tr>\n",
              "  <th>sex[T.Male]</th> <td>    0.1074</td> <td>    0.057</td> <td>    1.878</td> <td> 0.060</td> <td>   -0.005</td> <td>    0.219</td>\n",
              "</tr>\n",
              "<tr>\n",
              "  <th>age</th>         <td>    0.0277</td> <td>    0.002</td> <td>   15.970</td> <td> 0.000</td> <td>    0.024</td> <td>    0.031</td>\n",
              "</tr>\n",
              "<tr>\n",
              "  <th>edu</th>         <td>    0.0030</td> <td>    0.009</td> <td>    0.327</td> <td> 0.743</td> <td>   -0.015</td> <td>    0.021</td>\n",
              "</tr>\n",
              "<tr>\n",
              "  <th>treated</th>     <td>    0.2526</td> <td>    0.059</td> <td>    4.278</td> <td> 0.000</td> <td>    0.137</td> <td>    0.368</td>\n",
              "</tr>\n",
              "</table>"
            ],
            "text/latex": [
              "\\begin{center}\n",
              "\\begin{tabular}{lclc}\n",
              "\\toprule\n",
              "\\textbf{Dep. Variable:}   &      death       & \\textbf{  No. Observations:  } &     5735    \\\\\n",
              "\\textbf{Model:}           &      Logit       & \\textbf{  Df Residuals:      } &     5730    \\\\\n",
              "\\textbf{Method:}          &       MLE        & \\textbf{  Df Model:          } &        4    \\\\\n",
              "\\textbf{Date:}            & Fri, 28 Jul 2023 & \\textbf{  Pseudo R-squ.:     } &  0.03875    \\\\\n",
              "\\textbf{Time:}            &     14:00:35     & \\textbf{  Log-Likelihood:    } &   -3572.6   \\\\\n",
              "\\textbf{converged:}       &       True       & \\textbf{  LL-Null:           } &   -3716.7   \\\\\n",
              "\\textbf{Covariance Type:} &    nonrobust     & \\textbf{  LLR p-value:       } & 4.112e-61   \\\\\n",
              "\\bottomrule\n",
              "\\end{tabular}\n",
              "\\begin{tabular}{lcccccc}\n",
              "                     & \\textbf{coef} & \\textbf{std err} & \\textbf{z} & \\textbf{P$> |$z$|$} & \\textbf{[0.025} & \\textbf{0.975]}  \\\\\n",
              "\\midrule\n",
              "\\textbf{Intercept}   &      -1.2474  &        0.168     &    -7.406  &         0.000        &       -1.577    &       -0.917     \\\\\n",
              "\\textbf{sex[T.Male]} &       0.1074  &        0.057     &     1.878  &         0.060        &       -0.005    &        0.219     \\\\\n",
              "\\textbf{age}         &       0.0277  &        0.002     &    15.970  &         0.000        &        0.024    &        0.031     \\\\\n",
              "\\textbf{edu}         &       0.0030  &        0.009     &     0.327  &         0.743        &       -0.015    &        0.021     \\\\\n",
              "\\textbf{treated}     &       0.2526  &        0.059     &     4.278  &         0.000        &        0.137    &        0.368     \\\\\n",
              "\\bottomrule\n",
              "\\end{tabular}\n",
              "%\\caption{Logit Regression Results}\n",
              "\\end{center}"
            ],
            "text/plain": [
              "<class 'statsmodels.iolib.summary.Summary'>\n",
              "\"\"\"\n",
              "                           Logit Regression Results                           \n",
              "==============================================================================\n",
              "Dep. Variable:                  death   No. Observations:                 5735\n",
              "Model:                          Logit   Df Residuals:                     5730\n",
              "Method:                           MLE   Df Model:                            4\n",
              "Date:                Fri, 28 Jul 2023   Pseudo R-squ.:                 0.03875\n",
              "Time:                        14:00:35   Log-Likelihood:                -3572.6\n",
              "converged:                       True   LL-Null:                       -3716.7\n",
              "Covariance Type:            nonrobust   LLR p-value:                 4.112e-61\n",
              "===============================================================================\n",
              "                  coef    std err          z      P>|z|      [0.025      0.975]\n",
              "-------------------------------------------------------------------------------\n",
              "Intercept      -1.2474      0.168     -7.406      0.000      -1.577      -0.917\n",
              "sex[T.Male]     0.1074      0.057      1.878      0.060      -0.005       0.219\n",
              "age             0.0277      0.002     15.970      0.000       0.024       0.031\n",
              "edu             0.0030      0.009      0.327      0.743      -0.015       0.021\n",
              "treated         0.2526      0.059      4.278      0.000       0.137       0.368\n",
              "===============================================================================\n",
              "\"\"\""
            ]
          },
          "execution_count": 24,
          "metadata": {},
          "output_type": "execute_result"
        }
      ],
      "source": [
        "# Logistic regression for death (outcome) as dependent variable\n",
        "model = 'death ~ age + sex + edu + treated'\n",
        "reg_results = smf.logit(formula=model, data=rhc).fit()\n",
        "reg_results.summary()"
      ]
    },
    {
      "cell_type": "code",
      "execution_count": 25,
      "metadata": {
        "id": "eZrW1KAbjCRO"
      },
      "outputs": [],
      "source": [
        "rhc['sex'] = rhc['sex'].replace('Male', 0)\n",
        "rhc['sex'] = rhc['sex'].replace('Female', 1)"
      ]
    },
    {
      "cell_type": "code",
      "execution_count": 27,
      "metadata": {
        "colab": {
          "base_uri": "https://localhost:8080/",
          "height": 337
        },
        "id": "AHKtRvcOjCRO",
        "outputId": "73327cad-dc52-4a53-ca2a-da44482b6a02"
      },
      "outputs": [
        {
          "name": "stdout",
          "output_type": "stream",
          "text": [
            "Optimization terminated successfully.\n",
            "         Current function value: 0.662209\n",
            "         Iterations 4\n"
          ]
        },
        {
          "data": {
            "text/html": [
              "<table class=\"simpletable\">\n",
              "<caption>Logit Regression Results</caption>\n",
              "<tr>\n",
              "  <th>Dep. Variable:</th>        <td>treated</td>     <th>  No. Observations:  </th>  <td>  5735</td>  \n",
              "</tr>\n",
              "<tr>\n",
              "  <th>Model:</th>                 <td>Logit</td>      <th>  Df Residuals:      </th>  <td>  5731</td>  \n",
              "</tr>\n",
              "<tr>\n",
              "  <th>Method:</th>                 <td>MLE</td>       <th>  Df Model:          </th>  <td>     3</td>  \n",
              "</tr>\n",
              "<tr>\n",
              "  <th>Date:</th>            <td>Fri, 28 Jul 2023</td> <th>  Pseudo R-squ.:     </th> <td>0.003394</td> \n",
              "</tr>\n",
              "<tr>\n",
              "  <th>Time:</th>                <td>14:00:52</td>     <th>  Log-Likelihood:    </th> <td> -3797.8</td> \n",
              "</tr>\n",
              "<tr>\n",
              "  <th>converged:</th>             <td>True</td>       <th>  LL-Null:           </th> <td> -3810.7</td> \n",
              "</tr>\n",
              "<tr>\n",
              "  <th>Covariance Type:</th>     <td>nonrobust</td>    <th>  LLR p-value:       </th> <td>1.017e-05</td>\n",
              "</tr>\n",
              "</table>\n",
              "<table class=\"simpletable\">\n",
              "<tr>\n",
              "      <td></td>         <th>coef</th>     <th>std err</th>      <th>z</th>      <th>P>|z|</th>  <th>[0.025</th>    <th>0.975]</th>  \n",
              "</tr>\n",
              "<tr>\n",
              "  <th>Intercept</th> <td>   -0.5584</td> <td>    0.157</td> <td>   -3.550</td> <td> 0.000</td> <td>   -0.867</td> <td>   -0.250</td>\n",
              "</tr>\n",
              "<tr>\n",
              "  <th>age</th>       <td>   -0.0027</td> <td>    0.002</td> <td>   -1.648</td> <td> 0.099</td> <td>   -0.006</td> <td>    0.001</td>\n",
              "</tr>\n",
              "<tr>\n",
              "  <th>sex</th>       <td>   -0.1858</td> <td>    0.055</td> <td>   -3.374</td> <td> 0.001</td> <td>   -0.294</td> <td>   -0.078</td>\n",
              "</tr>\n",
              "<tr>\n",
              "  <th>edu</th>       <td>    0.0273</td> <td>    0.009</td> <td>    3.111</td> <td> 0.002</td> <td>    0.010</td> <td>    0.045</td>\n",
              "</tr>\n",
              "</table>"
            ],
            "text/latex": [
              "\\begin{center}\n",
              "\\begin{tabular}{lclc}\n",
              "\\toprule\n",
              "\\textbf{Dep. Variable:}   &     treated      & \\textbf{  No. Observations:  } &     5735    \\\\\n",
              "\\textbf{Model:}           &      Logit       & \\textbf{  Df Residuals:      } &     5731    \\\\\n",
              "\\textbf{Method:}          &       MLE        & \\textbf{  Df Model:          } &        3    \\\\\n",
              "\\textbf{Date:}            & Fri, 28 Jul 2023 & \\textbf{  Pseudo R-squ.:     } &  0.003394   \\\\\n",
              "\\textbf{Time:}            &     14:00:52     & \\textbf{  Log-Likelihood:    } &   -3797.8   \\\\\n",
              "\\textbf{converged:}       &       True       & \\textbf{  LL-Null:           } &   -3810.7   \\\\\n",
              "\\textbf{Covariance Type:} &    nonrobust     & \\textbf{  LLR p-value:       } & 1.017e-05   \\\\\n",
              "\\bottomrule\n",
              "\\end{tabular}\n",
              "\\begin{tabular}{lcccccc}\n",
              "                   & \\textbf{coef} & \\textbf{std err} & \\textbf{z} & \\textbf{P$> |$z$|$} & \\textbf{[0.025} & \\textbf{0.975]}  \\\\\n",
              "\\midrule\n",
              "\\textbf{Intercept} &      -0.5584  &        0.157     &    -3.550  &         0.000        &       -0.867    &       -0.250     \\\\\n",
              "\\textbf{age}       &      -0.0027  &        0.002     &    -1.648  &         0.099        &       -0.006    &        0.001     \\\\\n",
              "\\textbf{sex}       &      -0.1858  &        0.055     &    -3.374  &         0.001        &       -0.294    &       -0.078     \\\\\n",
              "\\textbf{edu}       &       0.0273  &        0.009     &     3.111  &         0.002        &        0.010    &        0.045     \\\\\n",
              "\\bottomrule\n",
              "\\end{tabular}\n",
              "%\\caption{Logit Regression Results}\n",
              "\\end{center}"
            ],
            "text/plain": [
              "<class 'statsmodels.iolib.summary.Summary'>\n",
              "\"\"\"\n",
              "                           Logit Regression Results                           \n",
              "==============================================================================\n",
              "Dep. Variable:                treated   No. Observations:                 5735\n",
              "Model:                          Logit   Df Residuals:                     5731\n",
              "Method:                           MLE   Df Model:                            3\n",
              "Date:                Fri, 28 Jul 2023   Pseudo R-squ.:                0.003394\n",
              "Time:                        14:00:52   Log-Likelihood:                -3797.8\n",
              "converged:                       True   LL-Null:                       -3810.7\n",
              "Covariance Type:            nonrobust   LLR p-value:                 1.017e-05\n",
              "==============================================================================\n",
              "                 coef    std err          z      P>|z|      [0.025      0.975]\n",
              "------------------------------------------------------------------------------\n",
              "Intercept     -0.5584      0.157     -3.550      0.000      -0.867      -0.250\n",
              "age           -0.0027      0.002     -1.648      0.099      -0.006       0.001\n",
              "sex           -0.1858      0.055     -3.374      0.001      -0.294      -0.078\n",
              "edu            0.0273      0.009      3.111      0.002       0.010       0.045\n",
              "==============================================================================\n",
              "\"\"\""
            ]
          },
          "execution_count": 27,
          "metadata": {},
          "output_type": "execute_result"
        }
      ],
      "source": [
        "# Logistic regression with Treatment as dependent variable (Propensity score)\n",
        "model = 'treated ~ age + sex + edu'\n",
        "propensity = smf.logit(formula=model, data = rhc).fit()\n",
        "propensity.summary()\n",
        "\n",
        "# Fit is very poor - this is just a demo as there are many potential confounders in the dataset that can be used"
      ]
    },
    {
      "cell_type": "code",
      "execution_count": 28,
      "metadata": {
        "id": "d6d7mMQJjCRO"
      },
      "outputs": [],
      "source": [
        "# Estimate propensity score and add to the rhc dataframe\n",
        "rhc['propensity'] = propensity.predict()"
      ]
    },
    {
      "cell_type": "markdown",
      "metadata": {
        "id": "BvV5vh56jCRO"
      },
      "source": [
        "# 2.2 Check the distribution of subjects across variables"
      ]
    },
    {
      "cell_type": "code",
      "execution_count": 29,
      "metadata": {
        "colab": {
          "base_uri": "https://localhost:8080/",
          "height": 339
        },
        "id": "rUhTwlzwjCRO",
        "outputId": "326b7c18-d059-453d-80a3-ecaa137db288"
      },
      "outputs": [
        {
          "data": {
            "text/plain": [
              "treated\n",
              "0    Axes(0.125,0.11;0.775x0.77)\n",
              "1    Axes(0.125,0.11;0.775x0.77)\n",
              "Name: propensity, dtype: object"
            ]
          },
          "execution_count": 29,
          "metadata": {},
          "output_type": "execute_result"
        },
        {
          "data": {
            "image/png": "[encoded data removed]",
            "text/plain": [
              "<Figure size 640x480 with 1 Axes>"
            ]
          },
          "metadata": {},
          "output_type": "display_data"
        }
      ],
      "source": [
        "# plot propensity score to compare treated and untreated before matching\n",
        "rhc.groupby('treated')['propensity'].hist(alpha=0.4)"
      ]
    },
    {
      "cell_type": "code",
      "execution_count": 30,
      "metadata": {
        "colab": {
          "base_uri": "https://localhost:8080/"
        },
        "id": "KU0iBfRYjCRO",
        "outputId": "1c08986c-9f0a-44dd-eb40-f2fd05c322f4"
      },
      "outputs": [
        {
          "data": {
            "text/plain": [
              "treated\n",
              "0    0.379108\n",
              "1    0.383603\n",
              "Name: propensity, dtype: float64"
            ]
          },
          "execution_count": 30,
          "metadata": {},
          "output_type": "execute_result"
        }
      ],
      "source": [
        "rhc.groupby('treated')['propensity'].mean()"
      ]
    },
    {
      "cell_type": "code",
      "execution_count": 34,
      "metadata": {
        "colab": {
          "base_uri": "https://localhost:8080/",
          "height": 200
        },
        "id": "QeVz1xoCjCRO",
        "outputId": "a0535a36-7679-415b-ea15-4e8cf708fd9a"
      },
      "outputs": [
        {
          "data": {
            "text/html": [
              "<div>\n",
              "<style scoped>\n",
              "    .dataframe tbody tr th:only-of-type {\n",
              "        vertical-align: middle;\n",
              "    }\n",
              "\n",
              "    .dataframe tbody tr th {\n",
              "        vertical-align: top;\n",
              "    }\n",
              "\n",
              "    .dataframe thead th {\n",
              "        text-align: right;\n",
              "    }\n",
              "</style>\n",
              "<table border=\"1\" class=\"dataframe\">\n",
              "  <thead>\n",
              "    <tr style=\"text-align: right;\">\n",
              "      <th></th>\n",
              "      <th>age</th>\n",
              "      <th>sex</th>\n",
              "      <th>edu</th>\n",
              "    </tr>\n",
              "    <tr>\n",
              "      <th>treated</th>\n",
              "      <th></th>\n",
              "      <th></th>\n",
              "      <th></th>\n",
              "    </tr>\n",
              "  </thead>\n",
              "  <tbody>\n",
              "    <tr>\n",
              "      <th>0</th>\n",
              "      <td>61.760926</td>\n",
              "      <td>0.460997</td>\n",
              "      <td>11.569005</td>\n",
              "    </tr>\n",
              "    <tr>\n",
              "      <th>1</th>\n",
              "      <td>60.749836</td>\n",
              "      <td>0.414835</td>\n",
              "      <td>11.856428</td>\n",
              "    </tr>\n",
              "  </tbody>\n",
              "</table>\n",
              "</div>"
            ],
            "text/plain": [
              "               age       sex        edu\n",
              "treated                                \n",
              "0        61.760926  0.460997  11.569005\n",
              "1        60.749836  0.414835  11.856428"
            ]
          },
          "execution_count": 34,
          "metadata": {},
          "output_type": "execute_result"
        }
      ],
      "source": [
        "# Distributions in the treated and untreated groups\n",
        "rhc.groupby('treated')[['age', 'sex', 'edu']].mean()"
      ]
    },
    {
      "cell_type": "code",
      "execution_count": 35,
      "metadata": {
        "colab": {
          "base_uri": "https://localhost:8080/",
          "height": 363
        },
        "id": "CkghZ5RNjCRP",
        "outputId": "2a82f9a8-fffd-4348-8a17-920927723293"
      },
      "outputs": [
        {
          "data": {
            "text/html": [
              "<div>\n",
              "<style scoped>\n",
              "    .dataframe tbody tr th:only-of-type {\n",
              "        vertical-align: middle;\n",
              "    }\n",
              "\n",
              "    .dataframe tbody tr th {\n",
              "        vertical-align: top;\n",
              "    }\n",
              "\n",
              "    .dataframe thead th {\n",
              "        text-align: right;\n",
              "    }\n",
              "</style>\n",
              "<table border=\"1\" class=\"dataframe\">\n",
              "  <thead>\n",
              "    <tr style=\"text-align: right;\">\n",
              "      <th></th>\n",
              "      <th>age</th>\n",
              "      <th>sex</th>\n",
              "      <th>edu</th>\n",
              "      <th>treated</th>\n",
              "      <th>propensity</th>\n",
              "    </tr>\n",
              "  </thead>\n",
              "  <tbody>\n",
              "    <tr>\n",
              "      <th>5649</th>\n",
              "      <td>68.16394</td>\n",
              "      <td>0</td>\n",
              "      <td>8.436928</td>\n",
              "      <td>0</td>\n",
              "      <td>0.374507</td>\n",
              "    </tr>\n",
              "    <tr>\n",
              "      <th>5196</th>\n",
              "      <td>48.91699</td>\n",
              "      <td>1</td>\n",
              "      <td>13.000000</td>\n",
              "      <td>0</td>\n",
              "      <td>0.372418</td>\n",
              "    </tr>\n",
              "    <tr>\n",
              "      <th>61</th>\n",
              "      <td>69.19098</td>\n",
              "      <td>1</td>\n",
              "      <td>10.000000</td>\n",
              "      <td>1</td>\n",
              "      <td>0.341011</td>\n",
              "    </tr>\n",
              "    <tr>\n",
              "      <th>316</th>\n",
              "      <td>54.88599</td>\n",
              "      <td>0</td>\n",
              "      <td>14.000000</td>\n",
              "      <td>1</td>\n",
              "      <td>0.419462</td>\n",
              "    </tr>\n",
              "    <tr>\n",
              "      <th>4679</th>\n",
              "      <td>85.10297</td>\n",
              "      <td>1</td>\n",
              "      <td>12.000000</td>\n",
              "      <td>0</td>\n",
              "      <td>0.343587</td>\n",
              "    </tr>\n",
              "    <tr>\n",
              "      <th>3927</th>\n",
              "      <td>39.12698</td>\n",
              "      <td>1</td>\n",
              "      <td>12.000000</td>\n",
              "      <td>0</td>\n",
              "      <td>0.372244</td>\n",
              "    </tr>\n",
              "    <tr>\n",
              "      <th>4612</th>\n",
              "      <td>64.41895</td>\n",
              "      <td>1</td>\n",
              "      <td>12.000000</td>\n",
              "      <td>1</td>\n",
              "      <td>0.356354</td>\n",
              "    </tr>\n",
              "    <tr>\n",
              "      <th>2361</th>\n",
              "      <td>74.32996</td>\n",
              "      <td>0</td>\n",
              "      <td>12.000000</td>\n",
              "      <td>0</td>\n",
              "      <td>0.393564</td>\n",
              "    </tr>\n",
              "    <tr>\n",
              "      <th>2107</th>\n",
              "      <td>82.46100</td>\n",
              "      <td>0</td>\n",
              "      <td>8.000000</td>\n",
              "      <td>0</td>\n",
              "      <td>0.362703</td>\n",
              "    </tr>\n",
              "    <tr>\n",
              "      <th>1470</th>\n",
              "      <td>38.58499</td>\n",
              "      <td>0</td>\n",
              "      <td>12.000000</td>\n",
              "      <td>0</td>\n",
              "      <td>0.416935</td>\n",
              "    </tr>\n",
              "  </tbody>\n",
              "</table>\n",
              "</div>"
            ],
            "text/plain": [
              "           age  sex        edu  treated  propensity\n",
              "5649  68.16394    0   8.436928        0    0.374507\n",
              "5196  48.91699    1  13.000000        0    0.372418\n",
              "61    69.19098    1  10.000000        1    0.341011\n",
              "316   54.88599    0  14.000000        1    0.419462\n",
              "4679  85.10297    1  12.000000        0    0.343587\n",
              "3927  39.12698    1  12.000000        0    0.372244\n",
              "4612  64.41895    1  12.000000        1    0.356354\n",
              "2361  74.32996    0  12.000000        0    0.393564\n",
              "2107  82.46100    0   8.000000        0    0.362703\n",
              "1470  38.58499    0  12.000000        0    0.416935"
            ]
          },
          "execution_count": 35,
          "metadata": {},
          "output_type": "execute_result"
        }
      ],
      "source": [
        "rhc[['age', 'sex', 'edu', 'treated','propensity']].sample(10)"
      ]
    },
    {
      "cell_type": "code",
      "execution_count": 36,
      "metadata": {
        "colab": {
          "base_uri": "https://localhost:8080/",
          "height": 568
        },
        "id": "QcIuDC2vjCRP",
        "outputId": "b824145d-3979-4b0b-dcc9-b40cbc84b8dc"
      },
      "outputs": [
        {
          "name": "stdout",
          "output_type": "stream",
          "text": [
            "Overview before matching\n"
          ]
        },
        {
          "data": {
            "image/png": "[encoded data removed]",
            "text/plain": [
              "<Figure size 812.111x750 with 12 Axes>"
            ]
          },
          "metadata": {},
          "output_type": "display_data"
        }
      ],
      "source": [
        "sns.pairplot(data = rhc[['age', 'sex', 'edu', 'treated']], hue = 'treated')\n",
        "print('Overview before matching')"
      ]
    },
    {
      "cell_type": "markdown",
      "metadata": {
        "id": "Q5sFqC37jCRP"
      },
      "source": [
        "# 2.3 Simple matching based on Rounding"
      ]
    },
    {
      "cell_type": "code",
      "execution_count": 52,
      "metadata": {},
      "outputs": [
        {
          "data": {
            "text/plain": [
              "count    5735.000000\n",
              "mean        0.380820\n",
              "std         0.032587\n",
              "min         0.277198\n",
              "25%         0.356382\n",
              "50%         0.379896\n",
              "75%         0.404552\n",
              "max         0.500283\n",
              "Name: propensity, dtype: float64"
            ]
          },
          "execution_count": 52,
          "metadata": {},
          "output_type": "execute_result"
        }
      ],
      "source": [
        "rhc['propensity'].describe()"
      ]
    },
    {
      "cell_type": "code",
      "execution_count": 37,
      "metadata": {
        "id": "fCKJfCcwjCRP"
      },
      "outputs": [],
      "source": [
        "# Matching based on rounding to first d.p\n",
        "rhc['group'] = (rhc['propensity']*10).astype(int)"
      ]
    },
    {
      "cell_type": "code",
      "execution_count": 38,
      "metadata": {
        "colab": {
          "base_uri": "https://localhost:8080/"
        },
        "id": "4qSM12DYjCRP",
        "outputId": "f8fde9ff-229c-4f85-8afe-3f7d32959a52"
      },
      "outputs": [
        {
          "data": {
            "text/plain": [
              "group\n",
              "2    0.695652\n",
              "3    0.670981\n",
              "4    0.595983\n",
              "5    1.000000\n",
              "Name: death, dtype: float64"
            ]
          },
          "execution_count": 38,
          "metadata": {},
          "output_type": "execute_result"
        }
      ],
      "source": [
        "# percentages who die in the different groups\n",
        "rhc.groupby('group')['death'].mean()"
      ]
    },
    {
      "cell_type": "code",
      "execution_count": 39,
      "metadata": {
        "colab": {
          "base_uri": "https://localhost:8080/",
          "height": 206
        },
        "id": "UPmCvY6ZjCRP",
        "outputId": "ddf3c31a-b2d2-42ce-9200-f8f8d87d64f2"
      },
      "outputs": [
        {
          "data": {
            "text/html": [
              "<div>\n",
              "<style scoped>\n",
              "    .dataframe tbody tr th:only-of-type {\n",
              "        vertical-align: middle;\n",
              "    }\n",
              "\n",
              "    .dataframe tbody tr th {\n",
              "        vertical-align: top;\n",
              "    }\n",
              "\n",
              "    .dataframe thead th {\n",
              "        text-align: right;\n",
              "    }\n",
              "</style>\n",
              "<table border=\"1\" class=\"dataframe\">\n",
              "  <thead>\n",
              "    <tr style=\"text-align: right;\">\n",
              "      <th>treated</th>\n",
              "      <th>0</th>\n",
              "      <th>1</th>\n",
              "    </tr>\n",
              "    <tr>\n",
              "      <th>group</th>\n",
              "      <th></th>\n",
              "      <th></th>\n",
              "    </tr>\n",
              "  </thead>\n",
              "  <tbody>\n",
              "    <tr>\n",
              "      <th>2</th>\n",
              "      <td>0.538462</td>\n",
              "      <td>0.900000</td>\n",
              "    </tr>\n",
              "    <tr>\n",
              "      <th>3</th>\n",
              "      <td>0.649882</td>\n",
              "      <td>0.707317</td>\n",
              "    </tr>\n",
              "    <tr>\n",
              "      <th>4</th>\n",
              "      <td>0.579317</td>\n",
              "      <td>0.619799</td>\n",
              "    </tr>\n",
              "    <tr>\n",
              "      <th>5</th>\n",
              "      <td>NaN</td>\n",
              "      <td>1.000000</td>\n",
              "    </tr>\n",
              "  </tbody>\n",
              "</table>\n",
              "</div>"
            ],
            "text/plain": [
              "treated         0         1\n",
              "group                      \n",
              "2        0.538462  0.900000\n",
              "3        0.649882  0.707317\n",
              "4        0.579317  0.619799\n",
              "5             NaN  1.000000"
            ]
          },
          "execution_count": 39,
          "metadata": {},
          "output_type": "execute_result"
        }
      ],
      "source": [
        "# distinguish between treated and untreated in the different groups and see percentage who die\n",
        "ps_table=rhc.groupby(['group', 'treated'])['death'].mean().unstack('treated')\n",
        "ps_table\n"
      ]
    },
    {
      "cell_type": "code",
      "execution_count": 40,
      "metadata": {
        "id": "rtmmf6nxjCRP"
      },
      "outputs": [],
      "source": [
        "rhc_small=rhc[['age', 'sex', 'edu', 'treated','propensity','group','death']]"
      ]
    },
    {
      "cell_type": "code",
      "execution_count": 41,
      "metadata": {
        "id": "RvjxXyW3jCRP"
      },
      "outputs": [],
      "source": [
        "# Group 5 will not have matches for treated and untreated, so it is dropped\n",
        "treated = rhc_small.loc[(rhc_small[\"treated\"]==1) & (rhc_small['group']!=5),:]\n",
        "untreated = rhc_small.loc[(rhc_small[\"treated\"]==0) & (rhc_small['group']!=5),:]"
      ]
    },
    {
      "cell_type": "code",
      "execution_count": 42,
      "metadata": {
        "colab": {
          "base_uri": "https://localhost:8080/",
          "height": 487
        },
        "id": "m4uSXuw8jCRQ",
        "outputId": "ace9c188-2502-426a-a95c-129ea079ef69"
      },
      "outputs": [
        {
          "data": {
            "text/html": [
              "<div>\n",
              "<style scoped>\n",
              "    .dataframe tbody tr th:only-of-type {\n",
              "        vertical-align: middle;\n",
              "    }\n",
              "\n",
              "    .dataframe tbody tr th {\n",
              "        vertical-align: top;\n",
              "    }\n",
              "\n",
              "    .dataframe thead th {\n",
              "        text-align: right;\n",
              "    }\n",
              "</style>\n",
              "<table border=\"1\" class=\"dataframe\">\n",
              "  <thead>\n",
              "    <tr style=\"text-align: right;\">\n",
              "      <th></th>\n",
              "      <th>age</th>\n",
              "      <th>sex</th>\n",
              "      <th>edu</th>\n",
              "      <th>treated</th>\n",
              "      <th>propensity</th>\n",
              "      <th>group</th>\n",
              "      <th>death</th>\n",
              "      <th>age_control</th>\n",
              "      <th>sex_control</th>\n",
              "      <th>edu_control</th>\n",
              "      <th>treated_control</th>\n",
              "      <th>propensity_control</th>\n",
              "      <th>group_control</th>\n",
              "      <th>death_control</th>\n",
              "    </tr>\n",
              "  </thead>\n",
              "  <tbody>\n",
              "    <tr>\n",
              "      <th>0</th>\n",
              "      <td>78.17896</td>\n",
              "      <td>1</td>\n",
              "      <td>12.000000</td>\n",
              "      <td>1</td>\n",
              "      <td>0.347837</td>\n",
              "      <td>3</td>\n",
              "      <td>1</td>\n",
              "      <td>73.98199</td>\n",
              "      <td>0.0</td>\n",
              "      <td>8.0</td>\n",
              "      <td>0.0</td>\n",
              "      <td>0.368037</td>\n",
              "      <td>3.0</td>\n",
              "      <td>0.0</td>\n",
              "    </tr>\n",
              "    <tr>\n",
              "      <th>1</th>\n",
              "      <td>46.09198</td>\n",
              "      <td>1</td>\n",
              "      <td>14.069916</td>\n",
              "      <td>1</td>\n",
              "      <td>0.381078</td>\n",
              "      <td>3</td>\n",
              "      <td>0</td>\n",
              "      <td>66.98199</td>\n",
              "      <td>1.0</td>\n",
              "      <td>13.0</td>\n",
              "      <td>0.0</td>\n",
              "      <td>0.361036</td>\n",
              "      <td>3.0</td>\n",
              "      <td>0.0</td>\n",
              "    </tr>\n",
              "    <tr>\n",
              "      <th>2</th>\n",
              "      <td>67.90997</td>\n",
              "      <td>0</td>\n",
              "      <td>9.945259</td>\n",
              "      <td>1</td>\n",
              "      <td>0.384368</td>\n",
              "      <td>3</td>\n",
              "      <td>1</td>\n",
              "      <td>77.89697</td>\n",
              "      <td>0.0</td>\n",
              "      <td>8.0</td>\n",
              "      <td>0.0</td>\n",
              "      <td>0.365570</td>\n",
              "      <td>3.0</td>\n",
              "      <td>1.0</td>\n",
              "    </tr>\n",
              "    <tr>\n",
              "      <th>3</th>\n",
              "      <td>48.42398</td>\n",
              "      <td>1</td>\n",
              "      <td>11.040535</td>\n",
              "      <td>1</td>\n",
              "      <td>0.360308</td>\n",
              "      <td>3</td>\n",
              "      <td>0</td>\n",
              "      <td>74.02899</td>\n",
              "      <td>1.0</td>\n",
              "      <td>12.0</td>\n",
              "      <td>0.0</td>\n",
              "      <td>0.350396</td>\n",
              "      <td>3.0</td>\n",
              "      <td>1.0</td>\n",
              "    </tr>\n",
              "    <tr>\n",
              "      <th>4</th>\n",
              "      <td>68.34796</td>\n",
              "      <td>0</td>\n",
              "      <td>12.000000</td>\n",
              "      <td>1</td>\n",
              "      <td>0.397444</td>\n",
              "      <td>3</td>\n",
              "      <td>0</td>\n",
              "      <td>69.07898</td>\n",
              "      <td>1.0</td>\n",
              "      <td>10.0</td>\n",
              "      <td>0.0</td>\n",
              "      <td>0.341080</td>\n",
              "      <td>3.0</td>\n",
              "      <td>1.0</td>\n",
              "    </tr>\n",
              "    <tr>\n",
              "      <th>...</th>\n",
              "      <td>...</td>\n",
              "      <td>...</td>\n",
              "      <td>...</td>\n",
              "      <td>...</td>\n",
              "      <td>...</td>\n",
              "      <td>...</td>\n",
              "      <td>...</td>\n",
              "      <td>...</td>\n",
              "      <td>...</td>\n",
              "      <td>...</td>\n",
              "      <td>...</td>\n",
              "      <td>...</td>\n",
              "      <td>...</td>\n",
              "      <td>...</td>\n",
              "    </tr>\n",
              "    <tr>\n",
              "      <th>2178</th>\n",
              "      <td>42.90500</td>\n",
              "      <td>0</td>\n",
              "      <td>11.040535</td>\n",
              "      <td>1</td>\n",
              "      <td>0.407746</td>\n",
              "      <td>4</td>\n",
              "      <td>1</td>\n",
              "      <td>62.98398</td>\n",
              "      <td>0.0</td>\n",
              "      <td>18.0</td>\n",
              "      <td>0.0</td>\n",
              "      <td>0.440848</td>\n",
              "      <td>4.0</td>\n",
              "      <td>1.0</td>\n",
              "    </tr>\n",
              "    <tr>\n",
              "      <th>2179</th>\n",
              "      <td>74.89697</td>\n",
              "      <td>0</td>\n",
              "      <td>9.945259</td>\n",
              "      <td>1</td>\n",
              "      <td>0.379892</td>\n",
              "      <td>3</td>\n",
              "      <td>1</td>\n",
              "      <td>61.61499</td>\n",
              "      <td>1.0</td>\n",
              "      <td>9.0</td>\n",
              "      <td>0.0</td>\n",
              "      <td>0.339495</td>\n",
              "      <td>3.0</td>\n",
              "      <td>1.0</td>\n",
              "    </tr>\n",
              "    <tr>\n",
              "      <th>2180</th>\n",
              "      <td>69.92694</td>\n",
              "      <td>1</td>\n",
              "      <td>9.000000</td>\n",
              "      <td>1</td>\n",
              "      <td>0.334457</td>\n",
              "      <td>3</td>\n",
              "      <td>1</td>\n",
              "      <td>73.37396</td>\n",
              "      <td>0.0</td>\n",
              "      <td>6.0</td>\n",
              "      <td>0.0</td>\n",
              "      <td>0.355806</td>\n",
              "      <td>3.0</td>\n",
              "      <td>1.0</td>\n",
              "    </tr>\n",
              "    <tr>\n",
              "      <th>2181</th>\n",
              "      <td>79.21698</td>\n",
              "      <td>1</td>\n",
              "      <td>8.000000</td>\n",
              "      <td>1</td>\n",
              "      <td>0.322870</td>\n",
              "      <td>3</td>\n",
              "      <td>0</td>\n",
              "      <td>18.75400</td>\n",
              "      <td>1.0</td>\n",
              "      <td>13.0</td>\n",
              "      <td>0.0</td>\n",
              "      <td>0.391737</td>\n",
              "      <td>3.0</td>\n",
              "      <td>0.0</td>\n",
              "    </tr>\n",
              "    <tr>\n",
              "      <th>2182</th>\n",
              "      <td>62.13300</td>\n",
              "      <td>0</td>\n",
              "      <td>12.000000</td>\n",
              "      <td>1</td>\n",
              "      <td>0.401490</td>\n",
              "      <td>4</td>\n",
              "      <td>1</td>\n",
              "      <td>35.15399</td>\n",
              "      <td>0.0</td>\n",
              "      <td>16.0</td>\n",
              "      <td>0.0</td>\n",
              "      <td>0.446005</td>\n",
              "      <td>4.0</td>\n",
              "      <td>0.0</td>\n",
              "    </tr>\n",
              "  </tbody>\n",
              "</table>\n",
              "<p>2183 rows × 14 columns</p>\n",
              "</div>"
            ],
            "text/plain": [
              "           age  sex        edu  treated  propensity  group  death  \\\n",
              "0     78.17896    1  12.000000        1    0.347837      3      1   \n",
              "1     46.09198    1  14.069916        1    0.381078      3      0   \n",
              "2     67.90997    0   9.945259        1    0.384368      3      1   \n",
              "3     48.42398    1  11.040535        1    0.360308      3      0   \n",
              "4     68.34796    0  12.000000        1    0.397444      3      0   \n",
              "...        ...  ...        ...      ...         ...    ...    ...   \n",
              "2178  42.90500    0  11.040535        1    0.407746      4      1   \n",
              "2179  74.89697    0   9.945259        1    0.379892      3      1   \n",
              "2180  69.92694    1   9.000000        1    0.334457      3      1   \n",
              "2181  79.21698    1   8.000000        1    0.322870      3      0   \n",
              "2182  62.13300    0  12.000000        1    0.401490      4      1   \n",
              "\n",
              "      age_control  sex_control  edu_control  treated_control  \\\n",
              "0        73.98199          0.0          8.0              0.0   \n",
              "1        66.98199          1.0         13.0              0.0   \n",
              "2        77.89697          0.0          8.0              0.0   \n",
              "3        74.02899          1.0         12.0              0.0   \n",
              "4        69.07898          1.0         10.0              0.0   \n",
              "...           ...          ...          ...              ...   \n",
              "2178     62.98398          0.0         18.0              0.0   \n",
              "2179     61.61499          1.0          9.0              0.0   \n",
              "2180     73.37396          0.0          6.0              0.0   \n",
              "2181     18.75400          1.0         13.0              0.0   \n",
              "2182     35.15399          0.0         16.0              0.0   \n",
              "\n",
              "      propensity_control  group_control  death_control  \n",
              "0               0.368037            3.0            0.0  \n",
              "1               0.361036            3.0            0.0  \n",
              "2               0.365570            3.0            1.0  \n",
              "3               0.350396            3.0            1.0  \n",
              "4               0.341080            3.0            1.0  \n",
              "...                  ...            ...            ...  \n",
              "2178            0.440848            4.0            1.0  \n",
              "2179            0.339495            3.0            1.0  \n",
              "2180            0.355806            3.0            1.0  \n",
              "2181            0.391737            3.0            0.0  \n",
              "2182            0.446005            4.0            0.0  \n",
              "\n",
              "[2183 rows x 14 columns]"
            ]
          },
          "execution_count": 42,
          "metadata": {},
          "output_type": "execute_result"
        }
      ],
      "source": [
        "# matching by groups\n",
        "treated = treated.reset_index(drop=True)\n",
        "matched_control=[]\n",
        "\n",
        "def add_matched_control(patient):\n",
        "    control_patient = untreated[untreated[\"group\"]==patient[\"group\"]].sample().iloc[0]\n",
        "    matched_control.append(control_patient)\n",
        "\n",
        "treated.apply(add_matched_control, axis=1)\n",
        "matched_control_df = pd.DataFrame(matched_control).reset_index(drop=True)\n",
        "paired_sample = treated.join(matched_control_df, rsuffix=\"_control\")\n",
        "paired_sample"
      ]
    },
    {
      "cell_type": "markdown",
      "metadata": {
        "id": "pXZKSMJdjCRQ"
      },
      "source": [
        "# 2.4 Step 5: Check the balance of covariates in the exposed and unexposed groups after matching on PS using subclassification\n",
        "\n",
        "- Only basic descriptives are introduced here\n",
        "- There are other diagnostic visualization and statistical criteria\n",
        "Refer to further readings if you intend to use this method for causal effects identification"
      ]
    },
    {
      "cell_type": "code",
      "execution_count": 44,
      "metadata": {
        "colab": {
          "base_uri": "https://localhost:8080/",
          "height": 263
        },
        "id": "JXCNl9PajCRQ",
        "outputId": "821d73ac-f886-4516-a68b-69f1a6f324f3"
      },
      "outputs": [
        {
          "data": {
            "text/html": [
              "<div>\n",
              "<style scoped>\n",
              "    .dataframe tbody tr th:only-of-type {\n",
              "        vertical-align: middle;\n",
              "    }\n",
              "\n",
              "    .dataframe tbody tr th {\n",
              "        vertical-align: top;\n",
              "    }\n",
              "\n",
              "    .dataframe thead tr th {\n",
              "        text-align: left;\n",
              "    }\n",
              "\n",
              "    .dataframe thead tr:last-of-type th {\n",
              "        text-align: right;\n",
              "    }\n",
              "</style>\n",
              "<table border=\"1\" class=\"dataframe\">\n",
              "  <thead>\n",
              "    <tr>\n",
              "      <th></th>\n",
              "      <th colspan=\"2\" halign=\"left\">age</th>\n",
              "      <th colspan=\"2\" halign=\"left\">sex</th>\n",
              "      <th colspan=\"2\" halign=\"left\">edu</th>\n",
              "    </tr>\n",
              "    <tr>\n",
              "      <th>treated</th>\n",
              "      <th>0</th>\n",
              "      <th>1</th>\n",
              "      <th>0</th>\n",
              "      <th>1</th>\n",
              "      <th>0</th>\n",
              "      <th>1</th>\n",
              "    </tr>\n",
              "    <tr>\n",
              "      <th>group</th>\n",
              "      <th></th>\n",
              "      <th></th>\n",
              "      <th></th>\n",
              "      <th></th>\n",
              "      <th></th>\n",
              "      <th></th>\n",
              "    </tr>\n",
              "  </thead>\n",
              "  <tbody>\n",
              "    <tr>\n",
              "      <th>2</th>\n",
              "      <td>79.668124</td>\n",
              "      <td>70.251468</td>\n",
              "      <td>1.000000</td>\n",
              "      <td>1.000000</td>\n",
              "      <td>2.846154</td>\n",
              "      <td>1.700000</td>\n",
              "    </tr>\n",
              "    <tr>\n",
              "      <th>3</th>\n",
              "      <td>66.084293</td>\n",
              "      <td>64.332149</td>\n",
              "      <td>0.619591</td>\n",
              "      <td>0.590786</td>\n",
              "      <td>10.725295</td>\n",
              "      <td>10.819763</td>\n",
              "    </tr>\n",
              "    <tr>\n",
              "      <th>4</th>\n",
              "      <td>50.493061</td>\n",
              "      <td>53.020573</td>\n",
              "      <td>0.049197</td>\n",
              "      <td>0.034433</td>\n",
              "      <td>13.836182</td>\n",
              "      <td>14.175709</td>\n",
              "    </tr>\n",
              "  </tbody>\n",
              "</table>\n",
              "</div>"
            ],
            "text/plain": [
              "               age                  sex                  edu           \n",
              "treated          0          1         0         1          0          1\n",
              "group                                                                  \n",
              "2        79.668124  70.251468  1.000000  1.000000   2.846154   1.700000\n",
              "3        66.084293  64.332149  0.619591  0.590786  10.725295  10.819763\n",
              "4        50.493061  53.020573  0.049197  0.034433  13.836182  14.175709"
            ]
          },
          "execution_count": 44,
          "metadata": {},
          "output_type": "execute_result"
        }
      ],
      "source": [
        "# Check distribution in the treated and untreated groups given (age, edu etc in the different groups)\n",
        "cov=rhc.groupby(['group', 'treated'])[['age', 'sex', 'edu']].mean().unstack('treated')\n",
        "cov.dropna(inplace=True)\n",
        "cov"
      ]
    },
    {
      "cell_type": "code",
      "execution_count": 46,
      "metadata": {
        "colab": {
          "base_uri": "https://localhost:8080/"
        },
        "id": "LcTVuJG_jCRQ",
        "outputId": "dd58ae6f-50ca-48cb-a277-f46b85daf7fd"
      },
      "outputs": [
        {
          "data": {
            "text/plain": [
              "     treated\n",
              "age  0          65.415159\n",
              "     1          63.285035\n",
              "sex  0           0.556263\n",
              "     1           0.406305\n",
              "edu  0           9.135877\n",
              "     1          13.423868\n",
              "dtype: float64"
            ]
          },
          "execution_count": 46,
          "metadata": {},
          "output_type": "execute_result"
        }
      ],
      "source": [
        "# overall group average\n",
        "cov_avg=rhc.groupby(['group', 'treated'])[['age', 'sex', 'edu']].mean().unstack('treated').mean()\n",
        "cov_avg"
      ]
    },
    {
      "cell_type": "code",
      "execution_count": 47,
      "metadata": {
        "colab": {
          "base_uri": "https://localhost:8080/",
          "height": 423
        },
        "id": "1g_2AMA2jCRQ",
        "outputId": "0f9ace92-8aa7-40c1-ccbc-69da67a27832"
      },
      "outputs": [
        {
          "data": {
            "text/html": [
              "<div>\n",
              "<style scoped>\n",
              "    .dataframe tbody tr th:only-of-type {\n",
              "        vertical-align: middle;\n",
              "    }\n",
              "\n",
              "    .dataframe tbody tr th {\n",
              "        vertical-align: top;\n",
              "    }\n",
              "\n",
              "    .dataframe thead th {\n",
              "        text-align: right;\n",
              "    }\n",
              "</style>\n",
              "<table border=\"1\" class=\"dataframe\">\n",
              "  <thead>\n",
              "    <tr style=\"text-align: right;\">\n",
              "      <th></th>\n",
              "      <th>age</th>\n",
              "      <th>sex</th>\n",
              "      <th>edu</th>\n",
              "      <th>treated</th>\n",
              "      <th>propensity</th>\n",
              "      <th>group</th>\n",
              "      <th>death</th>\n",
              "    </tr>\n",
              "  </thead>\n",
              "  <tbody>\n",
              "    <tr>\n",
              "      <th>0</th>\n",
              "      <td>78.17896</td>\n",
              "      <td>1.0</td>\n",
              "      <td>12.000000</td>\n",
              "      <td>1.0</td>\n",
              "      <td>0.347837</td>\n",
              "      <td>3.0</td>\n",
              "      <td>1.0</td>\n",
              "    </tr>\n",
              "    <tr>\n",
              "      <th>1</th>\n",
              "      <td>46.09198</td>\n",
              "      <td>1.0</td>\n",
              "      <td>14.069916</td>\n",
              "      <td>1.0</td>\n",
              "      <td>0.381078</td>\n",
              "      <td>3.0</td>\n",
              "      <td>0.0</td>\n",
              "    </tr>\n",
              "    <tr>\n",
              "      <th>2</th>\n",
              "      <td>67.90997</td>\n",
              "      <td>0.0</td>\n",
              "      <td>9.945259</td>\n",
              "      <td>1.0</td>\n",
              "      <td>0.384368</td>\n",
              "      <td>3.0</td>\n",
              "      <td>1.0</td>\n",
              "    </tr>\n",
              "    <tr>\n",
              "      <th>3</th>\n",
              "      <td>48.42398</td>\n",
              "      <td>1.0</td>\n",
              "      <td>11.040535</td>\n",
              "      <td>1.0</td>\n",
              "      <td>0.360308</td>\n",
              "      <td>3.0</td>\n",
              "      <td>0.0</td>\n",
              "    </tr>\n",
              "    <tr>\n",
              "      <th>4</th>\n",
              "      <td>68.34796</td>\n",
              "      <td>0.0</td>\n",
              "      <td>12.000000</td>\n",
              "      <td>1.0</td>\n",
              "      <td>0.397444</td>\n",
              "      <td>3.0</td>\n",
              "      <td>0.0</td>\n",
              "    </tr>\n",
              "    <tr>\n",
              "      <th>...</th>\n",
              "      <td>...</td>\n",
              "      <td>...</td>\n",
              "      <td>...</td>\n",
              "      <td>...</td>\n",
              "      <td>...</td>\n",
              "      <td>...</td>\n",
              "      <td>...</td>\n",
              "    </tr>\n",
              "    <tr>\n",
              "      <th>4361</th>\n",
              "      <td>62.98398</td>\n",
              "      <td>0.0</td>\n",
              "      <td>18.000000</td>\n",
              "      <td>0.0</td>\n",
              "      <td>0.440848</td>\n",
              "      <td>4.0</td>\n",
              "      <td>1.0</td>\n",
              "    </tr>\n",
              "    <tr>\n",
              "      <th>4362</th>\n",
              "      <td>61.61499</td>\n",
              "      <td>1.0</td>\n",
              "      <td>9.000000</td>\n",
              "      <td>0.0</td>\n",
              "      <td>0.339495</td>\n",
              "      <td>3.0</td>\n",
              "      <td>1.0</td>\n",
              "    </tr>\n",
              "    <tr>\n",
              "      <th>4363</th>\n",
              "      <td>73.37396</td>\n",
              "      <td>0.0</td>\n",
              "      <td>6.000000</td>\n",
              "      <td>0.0</td>\n",
              "      <td>0.355806</td>\n",
              "      <td>3.0</td>\n",
              "      <td>1.0</td>\n",
              "    </tr>\n",
              "    <tr>\n",
              "      <th>4364</th>\n",
              "      <td>18.75400</td>\n",
              "      <td>1.0</td>\n",
              "      <td>13.000000</td>\n",
              "      <td>0.0</td>\n",
              "      <td>0.391737</td>\n",
              "      <td>3.0</td>\n",
              "      <td>0.0</td>\n",
              "    </tr>\n",
              "    <tr>\n",
              "      <th>4365</th>\n",
              "      <td>35.15399</td>\n",
              "      <td>0.0</td>\n",
              "      <td>16.000000</td>\n",
              "      <td>0.0</td>\n",
              "      <td>0.446005</td>\n",
              "      <td>4.0</td>\n",
              "      <td>0.0</td>\n",
              "    </tr>\n",
              "  </tbody>\n",
              "</table>\n",
              "<p>4366 rows × 7 columns</p>\n",
              "</div>"
            ],
            "text/plain": [
              "           age  sex        edu  treated  propensity  group  death\n",
              "0     78.17896  1.0  12.000000      1.0    0.347837    3.0    1.0\n",
              "1     46.09198  1.0  14.069916      1.0    0.381078    3.0    0.0\n",
              "2     67.90997  0.0   9.945259      1.0    0.384368    3.0    1.0\n",
              "3     48.42398  1.0  11.040535      1.0    0.360308    3.0    0.0\n",
              "4     68.34796  0.0  12.000000      1.0    0.397444    3.0    0.0\n",
              "...        ...  ...        ...      ...         ...    ...    ...\n",
              "4361  62.98398  0.0  18.000000      0.0    0.440848    4.0    1.0\n",
              "4362  61.61499  1.0   9.000000      0.0    0.339495    3.0    1.0\n",
              "4363  73.37396  0.0   6.000000      0.0    0.355806    3.0    1.0\n",
              "4364  18.75400  1.0  13.000000      0.0    0.391737    3.0    0.0\n",
              "4365  35.15399  0.0  16.000000      0.0    0.446005    4.0    0.0\n",
              "\n",
              "[4366 rows x 7 columns]"
            ]
          },
          "execution_count": 47,
          "metadata": {},
          "output_type": "execute_result"
        }
      ],
      "source": [
        "# Melt dataframe to plot the comparison of distribution in covariates after matching\n",
        "paired_sample_treated=paired_sample[['age', 'sex', 'edu', 'treated', 'propensity', 'group','death']]\n",
        "paired_sample_untreated=paired_sample[['age_control',\n",
        "       'sex_control', 'edu_control', 'treated_control', 'propensity_control',\n",
        "       'group_control','death_control']]\n",
        "paired_sample_untreated.columns = ['age', 'sex', 'edu', 'treated', 'propensity', 'group','death']\n",
        "paired_sample_long=pd.concat([paired_sample_treated,paired_sample_untreated],ignore_index=True, sort=False)\n",
        "paired_sample_long"
      ]
    },
    {
      "cell_type": "code",
      "execution_count": 48,
      "metadata": {
        "colab": {
          "base_uri": "https://localhost:8080/",
          "height": 568
        },
        "id": "75ualWvTjCRQ",
        "outputId": "f48c8787-65d3-4823-e3bd-0ae5a3645a56"
      },
      "outputs": [
        {
          "name": "stdout",
          "output_type": "stream",
          "text": [
            "Overview after matching\n"
          ]
        },
        {
          "data": {
            "image/png": "[encoded data removed]",
            "text/plain": [
              "<Figure size 822x750 with 12 Axes>"
            ]
          },
          "metadata": {},
          "output_type": "display_data"
        }
      ],
      "source": [
        "# Compare distributions of treatment across covariates\n",
        "sns.pairplot(data = paired_sample_long[['age', 'sex', 'edu', 'treated']], hue = 'treated')\n",
        "print('Overview after matching')"
      ]
    },
    {
      "cell_type": "markdown",
      "metadata": {
        "id": "HqwI02EwbNut"
      },
      "source": [
        "# 2.5 Evaluate the Treatment Effects"
      ]
    },
    {
      "cell_type": "code",
      "execution_count": 49,
      "metadata": {
        "colab": {
          "base_uri": "https://localhost:8080/",
          "height": 175
        },
        "id": "DdC-mtkxjCRR",
        "outputId": "91da4e18-2484-4f94-df68-79ce70b29ae3"
      },
      "outputs": [
        {
          "data": {
            "text/html": [
              "<div>\n",
              "<style scoped>\n",
              "    .dataframe tbody tr th:only-of-type {\n",
              "        vertical-align: middle;\n",
              "    }\n",
              "\n",
              "    .dataframe tbody tr th {\n",
              "        vertical-align: top;\n",
              "    }\n",
              "\n",
              "    .dataframe thead th {\n",
              "        text-align: right;\n",
              "    }\n",
              "</style>\n",
              "<table border=\"1\" class=\"dataframe\">\n",
              "  <thead>\n",
              "    <tr style=\"text-align: right;\">\n",
              "      <th>treated</th>\n",
              "      <th>0.0</th>\n",
              "      <th>1.0</th>\n",
              "    </tr>\n",
              "    <tr>\n",
              "      <th>group</th>\n",
              "      <th></th>\n",
              "      <th></th>\n",
              "    </tr>\n",
              "  </thead>\n",
              "  <tbody>\n",
              "    <tr>\n",
              "      <th>2.0</th>\n",
              "      <td>0.400000</td>\n",
              "      <td>0.900000</td>\n",
              "    </tr>\n",
              "    <tr>\n",
              "      <th>3.0</th>\n",
              "      <td>0.682927</td>\n",
              "      <td>0.707317</td>\n",
              "    </tr>\n",
              "    <tr>\n",
              "      <th>4.0</th>\n",
              "      <td>0.568149</td>\n",
              "      <td>0.619799</td>\n",
              "    </tr>\n",
              "  </tbody>\n",
              "</table>\n",
              "</div>"
            ],
            "text/plain": [
              "treated       0.0       1.0\n",
              "group                      \n",
              "2.0      0.400000  0.900000\n",
              "3.0      0.682927  0.707317\n",
              "4.0      0.568149  0.619799"
            ]
          },
          "execution_count": 49,
          "metadata": {},
          "output_type": "execute_result"
        }
      ],
      "source": [
        "matched_ps_table=paired_sample_long.groupby(['group', 'treated'])['death'].mean().unstack('treated')\n",
        "matched_ps_table"
      ]
    },
    {
      "cell_type": "code",
      "execution_count": 50,
      "metadata": {
        "colab": {
          "base_uri": "https://localhost:8080/",
          "height": 175
        },
        "id": "GGjn0T5HjCRR",
        "outputId": "1bcb3d2a-2ead-4303-8d18-66c9ac9237a7"
      },
      "outputs": [
        {
          "data": {
            "text/html": [
              "<div>\n",
              "<style scoped>\n",
              "    .dataframe tbody tr th:only-of-type {\n",
              "        vertical-align: middle;\n",
              "    }\n",
              "\n",
              "    .dataframe tbody tr th {\n",
              "        vertical-align: top;\n",
              "    }\n",
              "\n",
              "    .dataframe thead th {\n",
              "        text-align: right;\n",
              "    }\n",
              "</style>\n",
              "<table border=\"1\" class=\"dataframe\">\n",
              "  <thead>\n",
              "    <tr style=\"text-align: right;\">\n",
              "      <th>treated</th>\n",
              "      <th>0.0</th>\n",
              "      <th>1.0</th>\n",
              "      <th>difference</th>\n",
              "    </tr>\n",
              "    <tr>\n",
              "      <th>group</th>\n",
              "      <th></th>\n",
              "      <th></th>\n",
              "      <th></th>\n",
              "    </tr>\n",
              "  </thead>\n",
              "  <tbody>\n",
              "    <tr>\n",
              "      <th>2.0</th>\n",
              "      <td>0.400000</td>\n",
              "      <td>0.900000</td>\n",
              "      <td>0.50000</td>\n",
              "    </tr>\n",
              "    <tr>\n",
              "      <th>3.0</th>\n",
              "      <td>0.682927</td>\n",
              "      <td>0.707317</td>\n",
              "      <td>0.02439</td>\n",
              "    </tr>\n",
              "    <tr>\n",
              "      <th>4.0</th>\n",
              "      <td>0.568149</td>\n",
              "      <td>0.619799</td>\n",
              "      <td>0.05165</td>\n",
              "    </tr>\n",
              "  </tbody>\n",
              "</table>\n",
              "</div>"
            ],
            "text/plain": [
              "treated       0.0       1.0  difference\n",
              "group                                  \n",
              "2.0      0.400000  0.900000     0.50000\n",
              "3.0      0.682927  0.707317     0.02439\n",
              "4.0      0.568149  0.619799     0.05165"
            ]
          },
          "execution_count": 50,
          "metadata": {},
          "output_type": "execute_result"
        }
      ],
      "source": [
        "# Evaluate treatment differences for each group\n",
        "matched_ps_table['difference'] = matched_ps_table[1] - matched_ps_table[0]\n",
        "matched_ps_table"
      ]
    },
    {
      "cell_type": "code",
      "execution_count": 51,
      "metadata": {
        "colab": {
          "base_uri": "https://localhost:8080/"
        },
        "id": "NTHTrVVTjCRR",
        "outputId": "73689bab-a348-4808-a9c5-622d2852841f"
      },
      "outputs": [
        {
          "data": {
            "text/plain": [
              "0.1920133907221425"
            ]
          },
          "execution_count": 51,
          "metadata": {},
          "output_type": "execute_result"
        }
      ],
      "source": [
        "# End result, average effect of treatment(ATE) on mortality across all groups\n",
        "matched_ps_table['difference'].mean()"
      ]
    }
  ],
  "metadata": {
    "colab": {
      "name": "Lecture_2_intro_propensity_score.ipynb",
      "provenance": [],
      "toc_visible": true
    },
    "kernelspec": {
      "display_name": "Python 3.8.10 ('snowflakes')",
      "language": "python",
      "name": "python3"
    },
    "language_info": {
      "codemirror_mode": {
        "name": "ipython",
        "version": 3
      },
      "file_extension": ".py",
      "mimetype": "text/x-python",
      "name": "python",
      "nbconvert_exporter": "python",
      "pygments_lexer": "ipython3",
      "version": "3.11.4"
    },
    "orig_nbformat": 4,
    "vscode": {
      "interpreter": {
        "hash": "29bc6fb767ed4294db6b39c39c9d90ba3f5587e5b8a682d2dfc088b2cafbf2c0"
      }
    }
  },
  "nbformat": 4,
  "nbformat_minor": 0
}
